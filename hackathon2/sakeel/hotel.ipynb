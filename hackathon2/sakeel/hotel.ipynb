{
 "cells": [
  {
   "cell_type": "code",
   "execution_count": 16,
   "metadata": {},
   "outputs": [],
   "source": [
    "import sqlite3"
   ]
  },
  {
   "cell_type": "code",
   "execution_count": 17,
   "metadata": {},
   "outputs": [],
   "source": [
    "# Function to create the database and table\n",
    "def setup_database():\n",
    "    conn = sqlite3.connect(\"todo_list.db\")\n",
    "    cursor = conn.cursor()\n",
    "    cursor.execute('CREATE TABLE IF NOT EXISTS todos (id INTEGER PRIMARY KEY AUTOINCREMENT, task TEXT);')\n",
    "    conn.commit()\n",
    "    conn.close()"
   ]
  },
  {
   "cell_type": "code",
   "execution_count": 18,
   "metadata": {},
   "outputs": [],
   "source": [
    "# Function to add a task to the todo list\n",
    "def add_task(task):\n",
    "    conn = sqlite3.connect(\"todo_list.db\")\n",
    "    cursor = conn.cursor()\n",
    "    cursor.execute(f\"INSERT INTO todos (task) VALUES ({task})\")\n",
    "    conn.commit()\n",
    "    conn.close()"
   ]
  },
  {
   "cell_type": "code",
   "execution_count": 19,
   "metadata": {},
   "outputs": [],
   "source": [
    "# Function to remove a task from the todo list\n",
    "def remove_task(task_id):\n",
    "    conn = sqlite3.connect(\"todo_list.db\")\n",
    "    cursor = conn.cursor()\n",
    "    cursor.execute(f\"DELETE FROM todos WHERE id=?{task_id}\")\n",
    "    conn.commit()\n",
    "    conn.close()"
   ]
  },
  {
   "cell_type": "code",
   "execution_count": 20,
   "metadata": {},
   "outputs": [],
   "source": [
    "# Function to view all tasks in the todo list\n",
    "def view_tasks():\n",
    "    conn = sqlite3.connect(\"todo_list.db\")\n",
    "    cursor = conn.cursor()\n",
    "    cursor.execute(\"SELECT * FROM todos\")\n",
    "    tasks = cursor.fetchall()\n",
    "    conn.close()\n",
    "\n",
    "    for task in tasks:\n",
    "        print(f\"{task[0]}. {task[1]}\")"
   ]
  },
  {
   "cell_type": "code",
   "execution_count": 21,
   "metadata": {},
   "outputs": [
    {
     "name": "stdout",
     "output_type": "stream",
     "text": [
      "\n",
      "Todo List:\n",
      " Noptions:\n",
      "1. Add task\n",
      "2. Remove task\n",
      "3. Exit\n"
     ]
    },
    {
     "ename": "OperationalError",
     "evalue": "no such column: test",
     "output_type": "error",
     "traceback": [
      "\u001b[0;31m---------------------------------------------------------------------------\u001b[0m",
      "\u001b[0;31mOperationalError\u001b[0m                          Traceback (most recent call last)",
      "Cell \u001b[0;32mIn[21], line 29\u001b[0m\n\u001b[1;32m     26\u001b[0m             \u001b[39mprint\u001b[39m(\u001b[39m\"\u001b[39m\u001b[39mInvalid option. Please try again.\u001b[39m\u001b[39m\"\u001b[39m)\n\u001b[1;32m     28\u001b[0m \u001b[39mif\u001b[39;00m \u001b[39m__name__\u001b[39m \u001b[39m==\u001b[39m \u001b[39m\"\u001b[39m\u001b[39m__main__\u001b[39m\u001b[39m\"\u001b[39m:\n\u001b[0;32m---> 29\u001b[0m     main()\n",
      "Cell \u001b[0;32mIn[21], line 18\u001b[0m, in \u001b[0;36mmain\u001b[0;34m()\u001b[0m\n\u001b[1;32m     16\u001b[0m \u001b[39mif\u001b[39;00m choice \u001b[39m==\u001b[39m \u001b[39m\"\u001b[39m\u001b[39m1\u001b[39m\u001b[39m\"\u001b[39m:\n\u001b[1;32m     17\u001b[0m     task \u001b[39m=\u001b[39m \u001b[39minput\u001b[39m(\u001b[39m\"\u001b[39m\u001b[39mEnter the task: \u001b[39m\u001b[39m\"\u001b[39m)\n\u001b[0;32m---> 18\u001b[0m     add_task(task)\n\u001b[1;32m     19\u001b[0m \u001b[39melif\u001b[39;00m choice \u001b[39m==\u001b[39m \u001b[39m\"\u001b[39m\u001b[39m2\u001b[39m\u001b[39m\"\u001b[39m:\n\u001b[1;32m     20\u001b[0m     task_id \u001b[39m=\u001b[39m \u001b[39minput\u001b[39m(\u001b[39m\"\u001b[39m\u001b[39mEnter the task number to remove: \u001b[39m\u001b[39m\"\u001b[39m)\n",
      "Cell \u001b[0;32mIn[18], line 5\u001b[0m, in \u001b[0;36madd_task\u001b[0;34m(task)\u001b[0m\n\u001b[1;32m      3\u001b[0m conn \u001b[39m=\u001b[39m sqlite3\u001b[39m.\u001b[39mconnect(\u001b[39m\"\u001b[39m\u001b[39mtodo_list.db\u001b[39m\u001b[39m\"\u001b[39m)\n\u001b[1;32m      4\u001b[0m cursor \u001b[39m=\u001b[39m conn\u001b[39m.\u001b[39mcursor()\n\u001b[0;32m----> 5\u001b[0m cursor\u001b[39m.\u001b[39;49mexecute(\u001b[39mf\u001b[39;49m\u001b[39m\"\u001b[39;49m\u001b[39mINSERT INTO todos (task) VALUES (\u001b[39;49m\u001b[39m{\u001b[39;49;00mtask\u001b[39m}\u001b[39;49;00m\u001b[39m)\u001b[39;49m\u001b[39m\"\u001b[39;49m)\n\u001b[1;32m      6\u001b[0m conn\u001b[39m.\u001b[39mcommit()\n\u001b[1;32m      7\u001b[0m conn\u001b[39m.\u001b[39mclose()\n",
      "\u001b[0;31mOperationalError\u001b[0m: no such column: test"
     ]
    }
   ],
   "source": [
    "# Main loop to run the todo list\n",
    "def main():\n",
    "    setup_database()\n",
    "\n",
    "    while True:\n",
    "        print(\"\\nTodo List:\")\n",
    "        view_tasks()\n",
    "\n",
    "        print(\" Noptions:\")\n",
    "        print(\"1. Add task\")\n",
    "        print(\"2. Remove task\")\n",
    "        print(\"3. Exit\")\n",
    "\n",
    "        choice = input(\"Enter option number: \")\n",
    "\n",
    "        if choice == \"1\":\n",
    "            task = input(\"Enter the task: \")\n",
    "            add_task(task)\n",
    "        elif choice == \"2\":\n",
    "            task_id = input(\"Enter the task number to remove: \")\n",
    "            remove_task(task_id)\n",
    "        elif choice == \"3\":\n",
    "            print(\"Exiting the todo list.\")\n",
    "            break\n",
    "        else:\n",
    "            print(\"Invalid option. Please try again.\")\n",
    "\n",
    "if __name__ == \"__main__\":\n",
    "    main()"
   ]
  }
 ],
 "metadata": {
  "kernelspec": {
   "display_name": "Python 3",
   "language": "python",
   "name": "python3"
  },
  "language_info": {
   "codemirror_mode": {
    "name": "ipython",
    "version": 3
   },
   "file_extension": ".py",
   "mimetype": "text/x-python",
   "name": "python",
   "nbconvert_exporter": "python",
   "pygments_lexer": "ipython3",
   "version": "3.10.2"
  },
  "orig_nbformat": 4
 },
 "nbformat": 4,
 "nbformat_minor": 2
}
