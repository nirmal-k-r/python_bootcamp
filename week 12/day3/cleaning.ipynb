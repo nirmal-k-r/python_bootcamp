{
 "cells": [
  {
   "cell_type": "code",
   "execution_count": 616,
   "metadata": {},
   "outputs": [],
   "source": [
    "import pandas as pd\n",
    "df = pd.read_csv('USA_cars_datasets.csv')"
   ]
  },
  {
   "cell_type": "code",
   "execution_count": 617,
   "metadata": {},
   "outputs": [
    {
     "name": "stdout",
     "output_type": "stream",
     "text": [
      "<bound method NDFrame.head of       Unnamed: 0  price      brand    model  year   title_status  mileage  \\\n",
      "0              0   6300     toyota  cruiser  2008  clean vehicle   274117   \n",
      "1              1   2899       ford       se  2011  clean vehicle   190552   \n",
      "2              2   5350      dodge      mpv  2018  clean vehicle    39590   \n",
      "3              3  25000       ford     door  2014  clean vehicle    64146   \n",
      "4              4  27700  chevrolet     1500  2018  clean vehicle     6654   \n",
      "...          ...    ...        ...      ...   ...            ...      ...   \n",
      "2494        2494   7800     nissan    versa  2019  clean vehicle    23609   \n",
      "2495        2495   9200     nissan    versa  2018  clean vehicle    34553   \n",
      "2496        2496   9200     nissan    versa  2018  clean vehicle    31594   \n",
      "2497        2497   9200     nissan    versa  2018  clean vehicle    32557   \n",
      "2498        2498   9200     nissan    versa  2018  clean vehicle    31371   \n",
      "\n",
      "       color                  vin        lot       state country  \\\n",
      "0      black    jtezu11f88k007763  159348797  new jersey     usa   \n",
      "1     silver    2fmdk3gc4bbb02217  166951262   tennessee     usa   \n",
      "2     silver    3c4pdcgg5jt346413  167655728     georgia     usa   \n",
      "3       blue    1ftfw1et4efc23745  167753855    virginia     usa   \n",
      "4        red    3gcpcrec2jg473991  167763266     florida     usa   \n",
      "...      ...                  ...        ...         ...     ...   \n",
      "2494     red    3n1cn7ap9kl880319  167722715  california     usa   \n",
      "2495  silver    3n1cn7ap5jl884088  167762225     florida     usa   \n",
      "2496  silver    3n1cn7ap9jl884191  167762226     florida     usa   \n",
      "2497   black    3n1cn7ap3jl883263  167762227     florida     usa   \n",
      "2498  silver    3n1cn7ap4jl884311  167762228     florida     usa   \n",
      "\n",
      "          condition  \n",
      "0      10 days left  \n",
      "1       6 days left  \n",
      "2       2 days left  \n",
      "3     22 hours left  \n",
      "4     22 hours left  \n",
      "...             ...  \n",
      "2494    1 days left  \n",
      "2495  21 hours left  \n",
      "2496  21 hours left  \n",
      "2497    2 days left  \n",
      "2498  21 hours left  \n",
      "\n",
      "[2499 rows x 13 columns]>\n"
     ]
    }
   ],
   "source": [
    "print(df.head)"
   ]
  },
  {
   "cell_type": "code",
   "execution_count": 618,
   "metadata": {},
   "outputs": [
    {
     "name": "stdout",
     "output_type": "stream",
     "text": [
      "Index(['Unnamed: 0', 'price', 'brand', 'model', 'year', 'title_status',\n",
      "       'mileage', 'color', 'vin', 'lot', 'state', 'country', 'condition'],\n",
      "      dtype='object')\n"
     ]
    }
   ],
   "source": [
    "print(df.columns)"
   ]
  },
  {
   "cell_type": "code",
   "execution_count": 619,
   "metadata": {},
   "outputs": [
    {
     "data": {
      "text/plain": [
       "<bound method NDFrame.head of       Unnamed: 0  price      brand    model  year   title_status  mileage  \\\n",
       "0              0   6300     toyota  cruiser  2008  clean vehicle   274117   \n",
       "1              1   2899       ford       se  2011  clean vehicle   190552   \n",
       "2              2   5350      dodge      mpv  2018  clean vehicle    39590   \n",
       "3              3  25000       ford     door  2014  clean vehicle    64146   \n",
       "4              4  27700  chevrolet     1500  2018  clean vehicle     6654   \n",
       "...          ...    ...        ...      ...   ...            ...      ...   \n",
       "2494        2494   7800     nissan    versa  2019  clean vehicle    23609   \n",
       "2495        2495   9200     nissan    versa  2018  clean vehicle    34553   \n",
       "2496        2496   9200     nissan    versa  2018  clean vehicle    31594   \n",
       "2497        2497   9200     nissan    versa  2018  clean vehicle    32557   \n",
       "2498        2498   9200     nissan    versa  2018  clean vehicle    31371   \n",
       "\n",
       "       color                  vin        lot       state country  \\\n",
       "0      black    jtezu11f88k007763  159348797  new jersey     usa   \n",
       "1     silver    2fmdk3gc4bbb02217  166951262   tennessee     usa   \n",
       "2     silver    3c4pdcgg5jt346413  167655728     georgia     usa   \n",
       "3       blue    1ftfw1et4efc23745  167753855    virginia     usa   \n",
       "4        red    3gcpcrec2jg473991  167763266     florida     usa   \n",
       "...      ...                  ...        ...         ...     ...   \n",
       "2494     red    3n1cn7ap9kl880319  167722715  california     usa   \n",
       "2495  silver    3n1cn7ap5jl884088  167762225     florida     usa   \n",
       "2496  silver    3n1cn7ap9jl884191  167762226     florida     usa   \n",
       "2497   black    3n1cn7ap3jl883263  167762227     florida     usa   \n",
       "2498  silver    3n1cn7ap4jl884311  167762228     florida     usa   \n",
       "\n",
       "          condition  \n",
       "0      10 days left  \n",
       "1       6 days left  \n",
       "2       2 days left  \n",
       "3     22 hours left  \n",
       "4     22 hours left  \n",
       "...             ...  \n",
       "2494    1 days left  \n",
       "2495  21 hours left  \n",
       "2496  21 hours left  \n",
       "2497    2 days left  \n",
       "2498  21 hours left  \n",
       "\n",
       "[2499 rows x 13 columns]>"
      ]
     },
     "execution_count": 619,
     "metadata": {},
     "output_type": "execute_result"
    }
   ],
   "source": [
    "df.rename(columns={'S': 'Id'},inplace=True)\n",
    "# df.rename(columns={'S': 'Id','price':'Price'},inplace=True)\n",
    "df.head"
   ]
  },
  {
   "cell_type": "code",
   "execution_count": 620,
   "metadata": {},
   "outputs": [
    {
     "name": "stdout",
     "output_type": "stream",
     "text": [
      "[' usa' ' canada']\n"
     ]
    }
   ],
   "source": [
    "print(df['country'].unique())"
   ]
  },
  {
   "cell_type": "code",
   "execution_count": 621,
   "metadata": {},
   "outputs": [
    {
     "name": "stdout",
     "output_type": "stream",
     "text": [
      "['USA' 'Canada']\n"
     ]
    }
   ],
   "source": [
    "df['country'].replace({' usa': 'USA',' canada': 'Canada'},inplace=True)\n",
    "print(df['country'].unique())"
   ]
  },
  {
   "cell_type": "code",
   "execution_count": 622,
   "metadata": {},
   "outputs": [],
   "source": [
    "df2=df.query(\"country=='USA'\")\n",
    "# print(df2['country'].unique())"
   ]
  },
  {
   "cell_type": "code",
   "execution_count": 623,
   "metadata": {},
   "outputs": [
    {
     "data": {
      "text/plain": [
       "Index(['Unnamed: 0', 'price', 'brand', 'model', 'year', 'title_status',\n",
       "       'mileage', 'color', 'vin', 'lot', 'state', 'country', 'condition'],\n",
       "      dtype='object')"
      ]
     },
     "execution_count": 623,
     "metadata": {},
     "output_type": "execute_result"
    }
   ],
   "source": [
    "df2.columns"
   ]
  },
  {
   "cell_type": "code",
   "execution_count": 624,
   "metadata": {},
   "outputs": [
    {
     "data": {
      "text/plain": [
       "Index(['Unnamed: 0', 'price', 'brand', 'model', 'year', 'title_status',\n",
       "       'mileage', 'color', 'state'],\n",
       "      dtype='object')"
      ]
     },
     "execution_count": 624,
     "metadata": {},
     "output_type": "execute_result"
    }
   ],
   "source": [
    "df3=df2.drop(['vin','lot','condition','country'],axis=1)\n",
    "df3.columns"
   ]
  },
  {
   "cell_type": "code",
   "execution_count": 625,
   "metadata": {},
   "outputs": [
    {
     "data": {
      "text/html": [
       "<div>\n",
       "<style scoped>\n",
       "    .dataframe tbody tr th:only-of-type {\n",
       "        vertical-align: middle;\n",
       "    }\n",
       "\n",
       "    .dataframe tbody tr th {\n",
       "        vertical-align: top;\n",
       "    }\n",
       "\n",
       "    .dataframe thead th {\n",
       "        text-align: right;\n",
       "    }\n",
       "</style>\n",
       "<table border=\"1\" class=\"dataframe\">\n",
       "  <thead>\n",
       "    <tr style=\"text-align: right;\">\n",
       "      <th></th>\n",
       "      <th>Unnamed: 0</th>\n",
       "      <th>price</th>\n",
       "      <th>brand</th>\n",
       "      <th>model</th>\n",
       "      <th>year</th>\n",
       "      <th>title_status</th>\n",
       "      <th>mileage</th>\n",
       "      <th>color</th>\n",
       "      <th>state</th>\n",
       "    </tr>\n",
       "  </thead>\n",
       "  <tbody>\n",
       "    <tr>\n",
       "      <th>0</th>\n",
       "      <td>0</td>\n",
       "      <td>6300</td>\n",
       "      <td>toyota</td>\n",
       "      <td>cruiser</td>\n",
       "      <td>2008</td>\n",
       "      <td>clean vehicle</td>\n",
       "      <td>274117</td>\n",
       "      <td>black</td>\n",
       "      <td>new jersey</td>\n",
       "    </tr>\n",
       "  </tbody>\n",
       "</table>\n",
       "</div>"
      ],
      "text/plain": [
       "   Unnamed: 0  price   brand    model  year   title_status  mileage  color  \\\n",
       "0           0   6300  toyota  cruiser  2008  clean vehicle   274117  black   \n",
       "\n",
       "        state  \n",
       "0  new jersey  "
      ]
     },
     "execution_count": 625,
     "metadata": {},
     "output_type": "execute_result"
    }
   ],
   "source": [
    "df3.head(1)"
   ]
  },
  {
   "cell_type": "code",
   "execution_count": 626,
   "metadata": {},
   "outputs": [
    {
     "name": "stdout",
     "output_type": "stream",
     "text": [
      "Unnamed: 0                  1\n",
      "price                    2899\n",
      "brand                    ford\n",
      "model                      se\n",
      "year                     2011\n",
      "title_status    clean vehicle\n",
      "mileage                190552\n",
      "color                  silver\n",
      "state               tennessee\n",
      "Name: 1, dtype: object\n"
     ]
    }
   ],
   "source": [
    "print(df3.iloc[1])"
   ]
  },
  {
   "cell_type": "code",
   "execution_count": 627,
   "metadata": {},
   "outputs": [
    {
     "name": "stdout",
     "output_type": "stream",
     "text": [
      "<class 'pandas.core.frame.DataFrame'>\n",
      "Int64Index: 2492 entries, 0 to 2498\n",
      "Data columns (total 9 columns):\n",
      " #   Column        Non-Null Count  Dtype \n",
      "---  ------        --------------  ----- \n",
      " 0   Unnamed: 0    2492 non-null   int64 \n",
      " 1   price         2492 non-null   int64 \n",
      " 2   brand         2492 non-null   object\n",
      " 3   model         2492 non-null   object\n",
      " 4   year          2492 non-null   int64 \n",
      " 5   title_status  2492 non-null   object\n",
      " 6   mileage       2492 non-null   int64 \n",
      " 7   color         2492 non-null   object\n",
      " 8   state         2492 non-null   object\n",
      "dtypes: int64(4), object(5)\n",
      "memory usage: 194.7+ KB\n"
     ]
    }
   ],
   "source": [
    "#finding data types\n",
    "df3.info()"
   ]
  },
  {
   "cell_type": "code",
   "execution_count": 628,
   "metadata": {},
   "outputs": [
    {
     "name": "stdout",
     "output_type": "stream",
     "text": [
      "Unnamed: 0      0\n",
      "price           0\n",
      "brand           0\n",
      "model           0\n",
      "year            0\n",
      "title_status    0\n",
      "mileage         0\n",
      "color           0\n",
      "state           0\n",
      "dtype: int64\n"
     ]
    }
   ],
   "source": [
    "#finidng missing valies\n",
    "print(df3.isna().sum())"
   ]
  },
  {
   "cell_type": "code",
   "execution_count": 629,
   "metadata": {},
   "outputs": [
    {
     "name": "stdout",
     "output_type": "stream",
     "text": [
      "Unnamed: 0      0\n",
      "price           0\n",
      "brand           0\n",
      "model           0\n",
      "year            0\n",
      "title_status    0\n",
      "mileage         0\n",
      "color           0\n",
      "state           0\n",
      "dtype: int64\n"
     ]
    }
   ],
   "source": [
    "#dropping missing values\n",
    "# df3.dropna(inplace=True) drop missing values\n",
    "\n",
    "# df3.fillna('0',inplace=True) #fill missing values\n",
    "\n",
    "print(df3.isna().sum())"
   ]
  },
  {
   "cell_type": "code",
   "execution_count": 630,
   "metadata": {},
   "outputs": [],
   "source": [
    "df3['price'].fillna(df3['price'].quantile(0.5),inplace=True) #fill missing values"
   ]
  },
  {
   "cell_type": "code",
   "execution_count": 631,
   "metadata": {},
   "outputs": [
    {
     "data": {
      "text/html": [
       "<div>\n",
       "<style scoped>\n",
       "    .dataframe tbody tr th:only-of-type {\n",
       "        vertical-align: middle;\n",
       "    }\n",
       "\n",
       "    .dataframe tbody tr th {\n",
       "        vertical-align: top;\n",
       "    }\n",
       "\n",
       "    .dataframe thead th {\n",
       "        text-align: right;\n",
       "    }\n",
       "</style>\n",
       "<table border=\"1\" class=\"dataframe\">\n",
       "  <thead>\n",
       "    <tr style=\"text-align: right;\">\n",
       "      <th></th>\n",
       "      <th>Unnamed: 0</th>\n",
       "      <th>price</th>\n",
       "      <th>brand</th>\n",
       "      <th>model</th>\n",
       "      <th>year</th>\n",
       "      <th>title_status</th>\n",
       "      <th>mileage</th>\n",
       "      <th>color</th>\n",
       "      <th>state</th>\n",
       "    </tr>\n",
       "  </thead>\n",
       "  <tbody>\n",
       "    <tr>\n",
       "      <th>0</th>\n",
       "      <td>0</td>\n",
       "      <td>6300</td>\n",
       "      <td>toyota</td>\n",
       "      <td>cruiser</td>\n",
       "      <td>2008</td>\n",
       "      <td>clean vehicle</td>\n",
       "      <td>274117</td>\n",
       "      <td>black</td>\n",
       "      <td>new jersey</td>\n",
       "    </tr>\n",
       "  </tbody>\n",
       "</table>\n",
       "</div>"
      ],
      "text/plain": [
       "   Unnamed: 0  price   brand    model  year   title_status  mileage  color  \\\n",
       "0           0   6300  toyota  cruiser  2008  clean vehicle   274117  black   \n",
       "\n",
       "        state  \n",
       "0  new jersey  "
      ]
     },
     "execution_count": 631,
     "metadata": {},
     "output_type": "execute_result"
    }
   ],
   "source": [
    "df3.head(1)"
   ]
  },
  {
   "cell_type": "code",
   "execution_count": 632,
   "metadata": {},
   "outputs": [
    {
     "name": "stdout",
     "output_type": "stream",
     "text": [
      "   Unnamed: 0  price      brand    model  year   title_status  mileage  \\\n",
      "0           0   6300     toyota  cruiser  2008  clean vehicle   274117   \n",
      "1           1   2899       ford       se  2011  clean vehicle   190552   \n",
      "2           2   5350      dodge      mpv  2018  clean vehicle    39590   \n",
      "3           3  25000       ford     door  2014  clean vehicle    64146   \n",
      "4           4  27700  chevrolet     1500  2018  clean vehicle     6654   \n",
      "\n",
      "    color       state  title_status_enc  color_enc  \n",
      "0   black  new jersey                 0          2  \n",
      "1  silver   tennessee                 0         39  \n",
      "2  silver     georgia                 0         39  \n",
      "3    blue    virginia                 0          4  \n",
      "4     red     florida                 0         34  \n"
     ]
    }
   ],
   "source": [
    "#labvel encoding\n",
    "\n",
    "from sklearn.preprocessing import LabelEncoder\n",
    "\n",
    "encoder=LabelEncoder()\n",
    "df3['title_status_enc']=encoder.fit_transform(df3['title_status'])\n",
    "df3['color_enc']=encoder.fit_transform(df3['color'])\n",
    "# df3['title_status']=encoder.fit_transform(df3['title_status'])\n",
    "print(df3.head(5))"
   ]
  },
  {
   "cell_type": "code",
   "execution_count": 633,
   "metadata": {},
   "outputs": [
    {
     "data": {
      "text/html": [
       "<div>\n",
       "<style scoped>\n",
       "    .dataframe tbody tr th:only-of-type {\n",
       "        vertical-align: middle;\n",
       "    }\n",
       "\n",
       "    .dataframe tbody tr th {\n",
       "        vertical-align: top;\n",
       "    }\n",
       "\n",
       "    .dataframe thead th {\n",
       "        text-align: right;\n",
       "    }\n",
       "</style>\n",
       "<table border=\"1\" class=\"dataframe\">\n",
       "  <thead>\n",
       "    <tr style=\"text-align: right;\">\n",
       "      <th></th>\n",
       "      <th>Unnamed: 0</th>\n",
       "      <th>price</th>\n",
       "      <th>brand</th>\n",
       "      <th>model</th>\n",
       "      <th>year</th>\n",
       "      <th>title_status</th>\n",
       "      <th>mileage</th>\n",
       "      <th>color</th>\n",
       "      <th>state</th>\n",
       "      <th>title_status_enc</th>\n",
       "      <th>color_enc</th>\n",
       "      <th>mileage_enc</th>\n",
       "    </tr>\n",
       "  </thead>\n",
       "  <tbody>\n",
       "    <tr>\n",
       "      <th>0</th>\n",
       "      <td>0</td>\n",
       "      <td>6300</td>\n",
       "      <td>toyota</td>\n",
       "      <td>cruiser</td>\n",
       "      <td>2008</td>\n",
       "      <td>clean vehicle</td>\n",
       "      <td>274117</td>\n",
       "      <td>black</td>\n",
       "      <td>new jersey</td>\n",
       "      <td>0</td>\n",
       "      <td>2</td>\n",
       "      <td>0.269287</td>\n",
       "    </tr>\n",
       "    <tr>\n",
       "      <th>1</th>\n",
       "      <td>1</td>\n",
       "      <td>2899</td>\n",
       "      <td>ford</td>\n",
       "      <td>se</td>\n",
       "      <td>2011</td>\n",
       "      <td>clean vehicle</td>\n",
       "      <td>190552</td>\n",
       "      <td>silver</td>\n",
       "      <td>tennessee</td>\n",
       "      <td>0</td>\n",
       "      <td>39</td>\n",
       "      <td>0.187194</td>\n",
       "    </tr>\n",
       "    <tr>\n",
       "      <th>2</th>\n",
       "      <td>2</td>\n",
       "      <td>5350</td>\n",
       "      <td>dodge</td>\n",
       "      <td>mpv</td>\n",
       "      <td>2018</td>\n",
       "      <td>clean vehicle</td>\n",
       "      <td>39590</td>\n",
       "      <td>silver</td>\n",
       "      <td>georgia</td>\n",
       "      <td>0</td>\n",
       "      <td>39</td>\n",
       "      <td>0.038892</td>\n",
       "    </tr>\n",
       "    <tr>\n",
       "      <th>3</th>\n",
       "      <td>3</td>\n",
       "      <td>25000</td>\n",
       "      <td>ford</td>\n",
       "      <td>door</td>\n",
       "      <td>2014</td>\n",
       "      <td>clean vehicle</td>\n",
       "      <td>64146</td>\n",
       "      <td>blue</td>\n",
       "      <td>virginia</td>\n",
       "      <td>0</td>\n",
       "      <td>4</td>\n",
       "      <td>0.063016</td>\n",
       "    </tr>\n",
       "    <tr>\n",
       "      <th>4</th>\n",
       "      <td>4</td>\n",
       "      <td>27700</td>\n",
       "      <td>chevrolet</td>\n",
       "      <td>1500</td>\n",
       "      <td>2018</td>\n",
       "      <td>clean vehicle</td>\n",
       "      <td>6654</td>\n",
       "      <td>red</td>\n",
       "      <td>florida</td>\n",
       "      <td>0</td>\n",
       "      <td>34</td>\n",
       "      <td>0.006537</td>\n",
       "    </tr>\n",
       "  </tbody>\n",
       "</table>\n",
       "</div>"
      ],
      "text/plain": [
       "   Unnamed: 0  price      brand    model  year   title_status  mileage  \\\n",
       "0           0   6300     toyota  cruiser  2008  clean vehicle   274117   \n",
       "1           1   2899       ford       se  2011  clean vehicle   190552   \n",
       "2           2   5350      dodge      mpv  2018  clean vehicle    39590   \n",
       "3           3  25000       ford     door  2014  clean vehicle    64146   \n",
       "4           4  27700  chevrolet     1500  2018  clean vehicle     6654   \n",
       "\n",
       "    color       state  title_status_enc  color_enc  mileage_enc  \n",
       "0   black  new jersey                 0          2     0.269287  \n",
       "1  silver   tennessee                 0         39     0.187194  \n",
       "2  silver     georgia                 0         39     0.038892  \n",
       "3    blue    virginia                 0          4     0.063016  \n",
       "4     red     florida                 0         34     0.006537  "
      ]
     },
     "execution_count": 633,
     "metadata": {},
     "output_type": "execute_result"
    }
   ],
   "source": [
    "from sklearn.preprocessing import MinMaxScaler, StandardScaler\n",
    "\n",
    "scaler=MinMaxScaler()\n",
    "df3['mileage_enc']=scaler.fit_transform(df3[['mileage']])\n",
    "\n",
    "df3.head(5)"
   ]
  },
  {
   "cell_type": "code",
   "execution_count": 634,
   "metadata": {},
   "outputs": [
    {
     "data": {
      "text/html": [
       "<div>\n",
       "<style scoped>\n",
       "    .dataframe tbody tr th:only-of-type {\n",
       "        vertical-align: middle;\n",
       "    }\n",
       "\n",
       "    .dataframe tbody tr th {\n",
       "        vertical-align: top;\n",
       "    }\n",
       "\n",
       "    .dataframe thead th {\n",
       "        text-align: right;\n",
       "    }\n",
       "</style>\n",
       "<table border=\"1\" class=\"dataframe\">\n",
       "  <thead>\n",
       "    <tr style=\"text-align: right;\">\n",
       "      <th></th>\n",
       "      <th>Unnamed: 0</th>\n",
       "      <th>price</th>\n",
       "      <th>brand</th>\n",
       "      <th>model</th>\n",
       "      <th>year</th>\n",
       "      <th>title_status</th>\n",
       "      <th>mileage</th>\n",
       "      <th>color</th>\n",
       "      <th>state</th>\n",
       "      <th>title_status_enc</th>\n",
       "      <th>color_enc</th>\n",
       "      <th>mileage_enc</th>\n",
       "    </tr>\n",
       "  </thead>\n",
       "  <tbody>\n",
       "    <tr>\n",
       "      <th>0</th>\n",
       "      <td>0</td>\n",
       "      <td>6300</td>\n",
       "      <td>toyota</td>\n",
       "      <td>cruiser</td>\n",
       "      <td>2008</td>\n",
       "      <td>clean vehicle</td>\n",
       "      <td>274117</td>\n",
       "      <td>black</td>\n",
       "      <td>new jersey</td>\n",
       "      <td>0</td>\n",
       "      <td>2</td>\n",
       "      <td>3.710575</td>\n",
       "    </tr>\n",
       "    <tr>\n",
       "      <th>1</th>\n",
       "      <td>1</td>\n",
       "      <td>2899</td>\n",
       "      <td>ford</td>\n",
       "      <td>se</td>\n",
       "      <td>2011</td>\n",
       "      <td>clean vehicle</td>\n",
       "      <td>190552</td>\n",
       "      <td>silver</td>\n",
       "      <td>tennessee</td>\n",
       "      <td>0</td>\n",
       "      <td>39</td>\n",
       "      <td>2.312587</td>\n",
       "    </tr>\n",
       "    <tr>\n",
       "      <th>2</th>\n",
       "      <td>2</td>\n",
       "      <td>5350</td>\n",
       "      <td>dodge</td>\n",
       "      <td>mpv</td>\n",
       "      <td>2018</td>\n",
       "      <td>clean vehicle</td>\n",
       "      <td>39590</td>\n",
       "      <td>silver</td>\n",
       "      <td>georgia</td>\n",
       "      <td>0</td>\n",
       "      <td>39</td>\n",
       "      <td>-0.212909</td>\n",
       "    </tr>\n",
       "    <tr>\n",
       "      <th>3</th>\n",
       "      <td>3</td>\n",
       "      <td>25000</td>\n",
       "      <td>ford</td>\n",
       "      <td>door</td>\n",
       "      <td>2014</td>\n",
       "      <td>clean vehicle</td>\n",
       "      <td>64146</td>\n",
       "      <td>blue</td>\n",
       "      <td>virginia</td>\n",
       "      <td>0</td>\n",
       "      <td>4</td>\n",
       "      <td>0.197896</td>\n",
       "    </tr>\n",
       "    <tr>\n",
       "      <th>4</th>\n",
       "      <td>4</td>\n",
       "      <td>27700</td>\n",
       "      <td>chevrolet</td>\n",
       "      <td>1500</td>\n",
       "      <td>2018</td>\n",
       "      <td>clean vehicle</td>\n",
       "      <td>6654</td>\n",
       "      <td>red</td>\n",
       "      <td>florida</td>\n",
       "      <td>0</td>\n",
       "      <td>34</td>\n",
       "      <td>-0.763907</td>\n",
       "    </tr>\n",
       "  </tbody>\n",
       "</table>\n",
       "</div>"
      ],
      "text/plain": [
       "   Unnamed: 0  price      brand    model  year   title_status  mileage  \\\n",
       "0           0   6300     toyota  cruiser  2008  clean vehicle   274117   \n",
       "1           1   2899       ford       se  2011  clean vehicle   190552   \n",
       "2           2   5350      dodge      mpv  2018  clean vehicle    39590   \n",
       "3           3  25000       ford     door  2014  clean vehicle    64146   \n",
       "4           4  27700  chevrolet     1500  2018  clean vehicle     6654   \n",
       "\n",
       "    color       state  title_status_enc  color_enc  mileage_enc  \n",
       "0   black  new jersey                 0          2     3.710575  \n",
       "1  silver   tennessee                 0         39     2.312587  \n",
       "2  silver     georgia                 0         39    -0.212909  \n",
       "3    blue    virginia                 0          4     0.197896  \n",
       "4     red     florida                 0         34    -0.763907  "
      ]
     },
     "execution_count": 634,
     "metadata": {},
     "output_type": "execute_result"
    }
   ],
   "source": [
    "scaler=StandardScaler()\n",
    "df3['mileage_enc']=scaler.fit_transform(df3[['mileage']])\n",
    "\n",
    "df3.head(5)"
   ]
  },
  {
   "cell_type": "code",
   "execution_count": 635,
   "metadata": {},
   "outputs": [
    {
     "name": "stderr",
     "output_type": "stream",
     "text": [
      "/Library/Frameworks/Python.framework/Versions/3.10/lib/python3.10/site-packages/sklearn/base.py:443: UserWarning: X has feature names, but FunctionTransformer was fitted without feature names\n",
      "  warnings.warn(\n"
     ]
    },
    {
     "data": {
      "text/html": [
       "<div>\n",
       "<style scoped>\n",
       "    .dataframe tbody tr th:only-of-type {\n",
       "        vertical-align: middle;\n",
       "    }\n",
       "\n",
       "    .dataframe tbody tr th {\n",
       "        vertical-align: top;\n",
       "    }\n",
       "\n",
       "    .dataframe thead th {\n",
       "        text-align: right;\n",
       "    }\n",
       "</style>\n",
       "<table border=\"1\" class=\"dataframe\">\n",
       "  <thead>\n",
       "    <tr style=\"text-align: right;\">\n",
       "      <th></th>\n",
       "      <th>Unnamed: 0</th>\n",
       "      <th>price</th>\n",
       "      <th>brand</th>\n",
       "      <th>model</th>\n",
       "      <th>year</th>\n",
       "      <th>title_status</th>\n",
       "      <th>mileage</th>\n",
       "      <th>color</th>\n",
       "      <th>state</th>\n",
       "      <th>title_status_enc</th>\n",
       "      <th>color_enc</th>\n",
       "      <th>mileage_enc</th>\n",
       "      <th>mileage_enc_tr</th>\n",
       "    </tr>\n",
       "  </thead>\n",
       "  <tbody>\n",
       "    <tr>\n",
       "      <th>0</th>\n",
       "      <td>0</td>\n",
       "      <td>6300</td>\n",
       "      <td>toyota</td>\n",
       "      <td>cruiser</td>\n",
       "      <td>2008</td>\n",
       "      <td>clean vehicle</td>\n",
       "      <td>274117</td>\n",
       "      <td>black</td>\n",
       "      <td>new jersey</td>\n",
       "      <td>0</td>\n",
       "      <td>2</td>\n",
       "      <td>3.710575</td>\n",
       "      <td>1.549810</td>\n",
       "    </tr>\n",
       "    <tr>\n",
       "      <th>1</th>\n",
       "      <td>1</td>\n",
       "      <td>2899</td>\n",
       "      <td>ford</td>\n",
       "      <td>se</td>\n",
       "      <td>2011</td>\n",
       "      <td>clean vehicle</td>\n",
       "      <td>190552</td>\n",
       "      <td>silver</td>\n",
       "      <td>tennessee</td>\n",
       "      <td>0</td>\n",
       "      <td>39</td>\n",
       "      <td>2.312587</td>\n",
       "      <td>1.197729</td>\n",
       "    </tr>\n",
       "    <tr>\n",
       "      <th>2</th>\n",
       "      <td>2</td>\n",
       "      <td>5350</td>\n",
       "      <td>dodge</td>\n",
       "      <td>mpv</td>\n",
       "      <td>2018</td>\n",
       "      <td>clean vehicle</td>\n",
       "      <td>39590</td>\n",
       "      <td>silver</td>\n",
       "      <td>georgia</td>\n",
       "      <td>0</td>\n",
       "      <td>39</td>\n",
       "      <td>-0.212909</td>\n",
       "      <td>-0.239412</td>\n",
       "    </tr>\n",
       "    <tr>\n",
       "      <th>3</th>\n",
       "      <td>3</td>\n",
       "      <td>25000</td>\n",
       "      <td>ford</td>\n",
       "      <td>door</td>\n",
       "      <td>2014</td>\n",
       "      <td>clean vehicle</td>\n",
       "      <td>64146</td>\n",
       "      <td>blue</td>\n",
       "      <td>virginia</td>\n",
       "      <td>0</td>\n",
       "      <td>4</td>\n",
       "      <td>0.197896</td>\n",
       "      <td>0.180567</td>\n",
       "    </tr>\n",
       "    <tr>\n",
       "      <th>4</th>\n",
       "      <td>4</td>\n",
       "      <td>27700</td>\n",
       "      <td>chevrolet</td>\n",
       "      <td>1500</td>\n",
       "      <td>2018</td>\n",
       "      <td>clean vehicle</td>\n",
       "      <td>6654</td>\n",
       "      <td>red</td>\n",
       "      <td>florida</td>\n",
       "      <td>0</td>\n",
       "      <td>34</td>\n",
       "      <td>-0.763907</td>\n",
       "      <td>-1.443531</td>\n",
       "    </tr>\n",
       "  </tbody>\n",
       "</table>\n",
       "</div>"
      ],
      "text/plain": [
       "   Unnamed: 0  price      brand    model  year   title_status  mileage  \\\n",
       "0           0   6300     toyota  cruiser  2008  clean vehicle   274117   \n",
       "1           1   2899       ford       se  2011  clean vehicle   190552   \n",
       "2           2   5350      dodge      mpv  2018  clean vehicle    39590   \n",
       "3           3  25000       ford     door  2014  clean vehicle    64146   \n",
       "4           4  27700  chevrolet     1500  2018  clean vehicle     6654   \n",
       "\n",
       "    color       state  title_status_enc  color_enc  mileage_enc  \\\n",
       "0   black  new jersey                 0          2     3.710575   \n",
       "1  silver   tennessee                 0         39     2.312587   \n",
       "2  silver     georgia                 0         39    -0.212909   \n",
       "3    blue    virginia                 0          4     0.197896   \n",
       "4     red     florida                 0         34    -0.763907   \n",
       "\n",
       "   mileage_enc_tr  \n",
       "0        1.549810  \n",
       "1        1.197729  \n",
       "2       -0.239412  \n",
       "3        0.180567  \n",
       "4       -1.443531  "
      ]
     },
     "execution_count": 635,
     "metadata": {},
     "output_type": "execute_result"
    }
   ],
   "source": [
    "import numpy as np\n",
    "from sklearn.preprocessing import FunctionTransformer\n",
    "transformer = FunctionTransformer(np.log1p, validate=True)\n",
    "df3['mileage_enc_tr']=transformer.transform(df3[['mileage_enc']])\n",
    "\n",
    "df3.head(5)"
   ]
  },
  {
   "cell_type": "code",
   "execution_count": 636,
   "metadata": {},
   "outputs": [
    {
     "data": {
      "image/png": "[encoded data removed]",
      "text/plain": [
       "<Figure size 432x288 with 1 Axes>"
      ]
     },
     "metadata": {
      "needs_background": "light"
     },
     "output_type": "display_data"
    }
   ],
   "source": [
    "import matplotlib.pyplot as plt\n",
    "\n",
    "plt.plot(df3['mileage_enc_tr'])\n",
    "plt.show()"
   ]
  },
  {
   "cell_type": "code",
   "execution_count": 637,
   "metadata": {},
   "outputs": [
    {
     "name": "stderr",
     "output_type": "stream",
     "text": [
      "/Library/Frameworks/Python.framework/Versions/3.10/lib/python3.10/site-packages/seaborn/distributions.py:2619: FutureWarning: `distplot` is a deprecated function and will be removed in a future version. Please adapt your code to use either `displot` (a figure-level function with similar flexibility) or `histplot` (an axes-level function for histograms).\n",
      "  warnings.warn(msg, FutureWarning)\n"
     ]
    },
    {
     "data": {
      "text/plain": [
       "<AxesSubplot:xlabel='mileage_enc_tr', ylabel='Density'>"
      ]
     },
     "execution_count": 637,
     "metadata": {},
     "output_type": "execute_result"
    },
    {
     "data": {
      "image/png": "[encoded data removed]",
      "text/plain": [
       "<Figure size 432x288 with 1 Axes>"
      ]
     },
     "metadata": {
      "needs_background": "light"
     },
     "output_type": "display_data"
    }
   ],
   "source": [
    "import seaborn as sns\n",
    "\n",
    "sns.distplot(df3['mileage_enc_tr'])"
   ]
  },
  {
   "cell_type": "code",
   "execution_count": 638,
   "metadata": {},
   "outputs": [
    {
     "data": {
      "text/html": [
       "<div>\n",
       "<style scoped>\n",
       "    .dataframe tbody tr th:only-of-type {\n",
       "        vertical-align: middle;\n",
       "    }\n",
       "\n",
       "    .dataframe tbody tr th {\n",
       "        vertical-align: top;\n",
       "    }\n",
       "\n",
       "    .dataframe thead th {\n",
       "        text-align: right;\n",
       "    }\n",
       "</style>\n",
       "<table border=\"1\" class=\"dataframe\">\n",
       "  <thead>\n",
       "    <tr style=\"text-align: right;\">\n",
       "      <th></th>\n",
       "      <th>Unnamed: 0</th>\n",
       "      <th>price</th>\n",
       "      <th>brand</th>\n",
       "      <th>model</th>\n",
       "      <th>year</th>\n",
       "      <th>title_status</th>\n",
       "      <th>mileage</th>\n",
       "      <th>color</th>\n",
       "      <th>state</th>\n",
       "      <th>title_status_enc</th>\n",
       "      <th>color_enc</th>\n",
       "      <th>mileage_enc</th>\n",
       "      <th>mileage_enc_tr</th>\n",
       "      <th>age_binned</th>\n",
       "    </tr>\n",
       "  </thead>\n",
       "  <tbody>\n",
       "    <tr>\n",
       "      <th>0</th>\n",
       "      <td>0</td>\n",
       "      <td>6300</td>\n",
       "      <td>toyota</td>\n",
       "      <td>cruiser</td>\n",
       "      <td>2008</td>\n",
       "      <td>clean vehicle</td>\n",
       "      <td>274117</td>\n",
       "      <td>black</td>\n",
       "      <td>new jersey</td>\n",
       "      <td>0</td>\n",
       "      <td>2</td>\n",
       "      <td>3.710575</td>\n",
       "      <td>1.549810</td>\n",
       "      <td>(2005, 2010]</td>\n",
       "    </tr>\n",
       "    <tr>\n",
       "      <th>1</th>\n",
       "      <td>1</td>\n",
       "      <td>2899</td>\n",
       "      <td>ford</td>\n",
       "      <td>se</td>\n",
       "      <td>2011</td>\n",
       "      <td>clean vehicle</td>\n",
       "      <td>190552</td>\n",
       "      <td>silver</td>\n",
       "      <td>tennessee</td>\n",
       "      <td>0</td>\n",
       "      <td>39</td>\n",
       "      <td>2.312587</td>\n",
       "      <td>1.197729</td>\n",
       "      <td>(2010, 2015]</td>\n",
       "    </tr>\n",
       "    <tr>\n",
       "      <th>2</th>\n",
       "      <td>2</td>\n",
       "      <td>5350</td>\n",
       "      <td>dodge</td>\n",
       "      <td>mpv</td>\n",
       "      <td>2018</td>\n",
       "      <td>clean vehicle</td>\n",
       "      <td>39590</td>\n",
       "      <td>silver</td>\n",
       "      <td>georgia</td>\n",
       "      <td>0</td>\n",
       "      <td>39</td>\n",
       "      <td>-0.212909</td>\n",
       "      <td>-0.239412</td>\n",
       "      <td>(2015, 2020]</td>\n",
       "    </tr>\n",
       "    <tr>\n",
       "      <th>3</th>\n",
       "      <td>3</td>\n",
       "      <td>25000</td>\n",
       "      <td>ford</td>\n",
       "      <td>door</td>\n",
       "      <td>2014</td>\n",
       "      <td>clean vehicle</td>\n",
       "      <td>64146</td>\n",
       "      <td>blue</td>\n",
       "      <td>virginia</td>\n",
       "      <td>0</td>\n",
       "      <td>4</td>\n",
       "      <td>0.197896</td>\n",
       "      <td>0.180567</td>\n",
       "      <td>(2010, 2015]</td>\n",
       "    </tr>\n",
       "    <tr>\n",
       "      <th>4</th>\n",
       "      <td>4</td>\n",
       "      <td>27700</td>\n",
       "      <td>chevrolet</td>\n",
       "      <td>1500</td>\n",
       "      <td>2018</td>\n",
       "      <td>clean vehicle</td>\n",
       "      <td>6654</td>\n",
       "      <td>red</td>\n",
       "      <td>florida</td>\n",
       "      <td>0</td>\n",
       "      <td>34</td>\n",
       "      <td>-0.763907</td>\n",
       "      <td>-1.443531</td>\n",
       "      <td>(2015, 2020]</td>\n",
       "    </tr>\n",
       "  </tbody>\n",
       "</table>\n",
       "</div>"
      ],
      "text/plain": [
       "   Unnamed: 0  price      brand    model  year   title_status  mileage  \\\n",
       "0           0   6300     toyota  cruiser  2008  clean vehicle   274117   \n",
       "1           1   2899       ford       se  2011  clean vehicle   190552   \n",
       "2           2   5350      dodge      mpv  2018  clean vehicle    39590   \n",
       "3           3  25000       ford     door  2014  clean vehicle    64146   \n",
       "4           4  27700  chevrolet     1500  2018  clean vehicle     6654   \n",
       "\n",
       "    color       state  title_status_enc  color_enc  mileage_enc  \\\n",
       "0   black  new jersey                 0          2     3.710575   \n",
       "1  silver   tennessee                 0         39     2.312587   \n",
       "2  silver     georgia                 0         39    -0.212909   \n",
       "3    blue    virginia                 0          4     0.197896   \n",
       "4     red     florida                 0         34    -0.763907   \n",
       "\n",
       "   mileage_enc_tr    age_binned  \n",
       "0        1.549810  (2005, 2010]  \n",
       "1        1.197729  (2010, 2015]  \n",
       "2       -0.239412  (2015, 2020]  \n",
       "3        0.180567  (2010, 2015]  \n",
       "4       -1.443531  (2015, 2020]  "
      ]
     },
     "execution_count": 638,
     "metadata": {},
     "output_type": "execute_result"
    }
   ],
   "source": [
    "bins=[2000,2005,2010,2015,2020]\n",
    "df3['age_binned']=pd.cut(df3['year'],bins=bins)\n",
    "\n",
    "df3.head(5)"
   ]
  },
  {
   "cell_type": "code",
   "execution_count": 639,
   "metadata": {},
   "outputs": [
    {
     "data": {
      "image/png": "[encoded data removed]",
      "text/plain": [
       "<Figure size 432x288 with 1 Axes>"
      ]
     },
     "metadata": {
      "needs_background": "light"
     },
     "output_type": "display_data"
    }
   ],
   "source": [
    "plt.plot(df3['price'])\n",
    "plt.show()"
   ]
  },
  {
   "cell_type": "code",
   "execution_count": 640,
   "metadata": {},
   "outputs": [
    {
     "name": "stdout",
     "output_type": "stream",
     "text": [
      "18735.116773675763\n",
      "84900\n",
      "0\n"
     ]
    }
   ],
   "source": [
    "print(df3['price'].mean())\n",
    "print(df3['price'].max())\n",
    "print(df3['price'].min())"
   ]
  },
  {
   "cell_type": "code",
   "execution_count": 641,
   "metadata": {},
   "outputs": [
    {
     "name": "stdout",
     "output_type": "stream",
     "text": [
      "(10000, 20000]     878\n",
      "(20000, 30000]     634\n",
      "(5000, 10000]      304\n",
      "(0, 5000]          268\n",
      "(30000, 40000]     226\n",
      "(40000, 50000]      90\n",
      "(50000, 60000]      37\n",
      "(60000, 70000]      10\n",
      "(70000, 80000]       1\n",
      "(80000, 90000]       1\n",
      "(90000, 100000]      0\n",
      "Name: price_binned, dtype: int64\n"
     ]
    },
    {
     "data": {
      "text/plain": [
       "<AxesSubplot:>"
      ]
     },
     "execution_count": 641,
     "metadata": {},
     "output_type": "execute_result"
    },
    {
     "data": {
      "image/png": "[encoded data removed]",
      "text/plain": [
       "<Figure size 432x288 with 1 Axes>"
      ]
     },
     "metadata": {
      "needs_background": "light"
     },
     "output_type": "display_data"
    }
   ],
   "source": [
    "bins=[0,5000,10000,20000,30000,40000,50000,60000,70000,80000,90000,100000]\n",
    "df3['price_binned']=pd.cut(df3['price'],bins=bins)\n",
    "df3.head(5)\n",
    "\n",
    "\n",
    "print(df3['price_binned'].value_counts())\n",
    "df3['price_binned'].value_counts().plot(kind='bar')"
   ]
  },
  {
   "cell_type": "code",
   "execution_count": 642,
   "metadata": {},
   "outputs": [
    {
     "data": {
      "text/plain": [
       "<AxesSubplot:>"
      ]
     },
     "execution_count": 642,
     "metadata": {},
     "output_type": "execute_result"
    },
    {
     "data": {
      "image/png": "[encoded data removed]",
      "text/plain": [
       "<Figure size 432x288 with 1 Axes>"
      ]
     },
     "metadata": {
      "needs_background": "light"
     },
     "output_type": "display_data"
    }
   ],
   "source": [
    "df4=df3.query('price<60000')\n",
    "\n",
    "df4['price_binned'].value_counts().plot(kind='bar')\n",
    "\n",
    "\n"
   ]
  },
  {
   "cell_type": "code",
   "execution_count": 643,
   "metadata": {},
   "outputs": [
    {
     "name": "stderr",
     "output_type": "stream",
     "text": [
      "/Library/Frameworks/Python.framework/Versions/3.10/lib/python3.10/site-packages/seaborn/distributions.py:2619: FutureWarning: `distplot` is a deprecated function and will be removed in a future version. Please adapt your code to use either `displot` (a figure-level function with similar flexibility) or `histplot` (an axes-level function for histograms).\n",
      "  warnings.warn(msg, FutureWarning)\n"
     ]
    },
    {
     "data": {
      "text/plain": [
       "<AxesSubplot:xlabel='price', ylabel='Density'>"
      ]
     },
     "execution_count": 643,
     "metadata": {},
     "output_type": "execute_result"
    },
    {
     "data": {
      "image/png": "[encoded data removed]",
      "text/plain": [
       "<Figure size 432x288 with 1 Axes>"
      ]
     },
     "metadata": {
      "needs_background": "light"
     },
     "output_type": "display_data"
    }
   ],
   "source": [
    "sns.distplot(df4['price'])"
   ]
  }
 ],
 "metadata": {
  "kernelspec": {
   "display_name": "Python 3",
   "language": "python",
   "name": "python3"
  },
  "language_info": {
   "codemirror_mode": {
    "name": "ipython",
    "version": 3
   },
   "file_extension": ".py",
   "mimetype": "text/x-python",
   "name": "python",
   "nbconvert_exporter": "python",
   "pygments_lexer": "ipython3",
   "version": "3.10.2"
  },
  "orig_nbformat": 4
 },
 "nbformat": 4,
 "nbformat_minor": 2
}
