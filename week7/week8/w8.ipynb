{
 "cells": [
  {
   "cell_type": "code",
   "execution_count": 12,
   "metadata": {},
   "outputs": [
    {
     "name": "stdout",
     "output_type": "stream",
     "text": [
      "Fuel:  50\n",
      "Refuelled car\n",
      "Fuel:  60\n",
      "Fuel:  60\n"
     ]
    }
   ],
   "source": [
    "#class\n",
    "class car:\n",
    "    def __init__(self):\n",
    "        # self.fuel=50 #public property\n",
    "        # self._fuel = 50 #protected property\n",
    "        self.__fuel = 50 #private property\n",
    "\n",
    "\n",
    "    def refuel(self,amount):\n",
    "        self.__fuel+=amount\n",
    "        print(\"Refuelled car\")\n",
    "\n",
    "    def info(self):\n",
    "        print(\"Fuel: \",self.__fuel)\n",
    "\n",
    "\n",
    "#main program\n",
    "mycar=car()\n",
    "mycar.info()\n",
    "mycar.refuel(10)\n",
    "mycar.info()\n",
    "\n",
    "#mycar.__fuel=0\n",
    "mycar.info()\n"
   ]
  },
  {
   "cell_type": "code",
   "execution_count": 17,
   "metadata": {},
   "outputs": [
    {
     "ename": "TypeError",
     "evalue": "ElectricVehicle.chargeVehicle() missing 1 required positional argument: 'self'",
     "output_type": "error",
     "traceback": [
      "\u001b[0;31m---------------------------------------------------------------------------\u001b[0m",
      "\u001b[0;31mTypeError\u001b[0m                                 Traceback (most recent call last)",
      "\u001b[1;32m/Users/nirmal/Desktop/python_bootcamp/week7/week8/w8.ipynb Cell 2\u001b[0m in \u001b[0;36m<cell line: 23>\u001b[0;34m()\u001b[0m\n\u001b[1;32m     <a href='vscode-notebook-cell:/Users/nirmal/Desktop/python_bootcamp/week7/week8/w8.ipynb#W1sZmlsZQ%3D%3D?line=17'>18</a>\u001b[0m         \u001b[39mprint\u001b[39m(\u001b[39m\"\u001b[39m\u001b[39mCharging sports car\u001b[39m\u001b[39m\"\u001b[39m)\n\u001b[1;32m     <a href='vscode-notebook-cell:/Users/nirmal/Desktop/python_bootcamp/week7/week8/w8.ipynb#W1sZmlsZQ%3D%3D?line=20'>21</a>\u001b[0m new\u001b[39m=\u001b[39mSportsCar()\n\u001b[0;32m---> <a href='vscode-notebook-cell:/Users/nirmal/Desktop/python_bootcamp/week7/week8/w8.ipynb#W1sZmlsZQ%3D%3D?line=22'>23</a>\u001b[0m new\u001b[39m.\u001b[39;49mchargeVehicle()\n\u001b[1;32m     <a href='vscode-notebook-cell:/Users/nirmal/Desktop/python_bootcamp/week7/week8/w8.ipynb#W1sZmlsZQ%3D%3D?line=23'>24</a>\u001b[0m \u001b[39mprint\u001b[39m(new\u001b[39m.\u001b[39mbattery)\n\u001b[1;32m     <a href='vscode-notebook-cell:/Users/nirmal/Desktop/python_bootcamp/week7/week8/w8.ipynb#W1sZmlsZQ%3D%3D?line=25'>26</a>\u001b[0m new\u001b[39m.\u001b[39mchargeVehicle()\n",
      "\u001b[1;32m/Users/nirmal/Desktop/python_bootcamp/week7/week8/w8.ipynb Cell 2\u001b[0m in \u001b[0;36mSportsCar.chargeVehicle\u001b[0;34m(self)\u001b[0m\n\u001b[1;32m     <a href='vscode-notebook-cell:/Users/nirmal/Desktop/python_bootcamp/week7/week8/w8.ipynb#W1sZmlsZQ%3D%3D?line=15'>16</a>\u001b[0m \u001b[39mdef\u001b[39;00m \u001b[39mchargeVehicle\u001b[39m(\u001b[39mself\u001b[39m): \u001b[39m#polymorphism\u001b[39;00m\n\u001b[0;32m---> <a href='vscode-notebook-cell:/Users/nirmal/Desktop/python_bootcamp/week7/week8/w8.ipynb#W1sZmlsZQ%3D%3D?line=16'>17</a>\u001b[0m     ElectricVehicle\u001b[39m.\u001b[39;49mchargeVehicle()\n\u001b[1;32m     <a href='vscode-notebook-cell:/Users/nirmal/Desktop/python_bootcamp/week7/week8/w8.ipynb#W1sZmlsZQ%3D%3D?line=17'>18</a>\u001b[0m     \u001b[39mprint\u001b[39m(\u001b[39m\"\u001b[39m\u001b[39mCharging sports car\u001b[39m\u001b[39m\"\u001b[39m)\n",
      "\u001b[0;31mTypeError\u001b[0m: ElectricVehicle.chargeVehicle() missing 1 required positional argument: 'self'"
     ]
    }
   ],
   "source": [
    "class Vehicle:  #parent class\n",
    "    pass\n",
    "\n",
    "class Car(Vehicle):  #single inheritance\n",
    "    pass\n",
    "\n",
    "class ElectricVehicle(Vehicle):  #single inheritance\n",
    "    def __init__(self):\n",
    "        self.battery=100\n",
    "\n",
    "    def chargeVehicle(self):\n",
    "        print(\"Charging vehicle\")\n",
    "\n",
    "class SportsCar(Car,ElectricVehicle):  #multiple inheritance\n",
    "\n",
    "    def chargeVehicle(self): #polymorphism\n",
    "        ElectricVehicle.chargeVehicle(self)\n",
    "        print(\"Charging sports car\")\n",
    "\n",
    "\n",
    "new=SportsCar()\n",
    "\n",
    "new.chargeVehicle()\n",
    "print(new.battery)\n",
    "\n",
    "new.chargeVehicle()\n"
   ]
  }
 ],
 "metadata": {
  "kernelspec": {
   "display_name": "Python 3",
   "language": "python",
   "name": "python3"
  },
  "language_info": {
   "codemirror_mode": {
    "name": "ipython",
    "version": 3
   },
   "file_extension": ".py",
   "mimetype": "text/x-python",
   "name": "python",
   "nbconvert_exporter": "python",
   "pygments_lexer": "ipython3",
   "version": "3.10.2"
  },
  "orig_nbformat": 4
 },
 "nbformat": 4,
 "nbformat_minor": 2
}
