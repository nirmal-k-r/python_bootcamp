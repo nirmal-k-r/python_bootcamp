{
 "cells": [
  {
   "cell_type": "code",
   "execution_count": 12,
   "metadata": {},
   "outputs": [
    {
     "name": "stdout",
     "output_type": "stream",
     "text": [
      "Fuel:  50\n",
      "Refuelled car\n",
      "Fuel:  60\n",
      "Fuel:  60\n"
     ]
    }
   ],
   "source": [
    "#class\n",
    "class car:\n",
    "    def __init__(self):\n",
    "        # self.fuel=50 #public property\n",
    "        # self._fuel = 50 #protected property\n",
    "        self.__fuel = 50 #private property\n",
    "\n",
    "\n",
    "    def refuel(self,amount):\n",
    "        self.__fuel+=amount\n",
    "        print(\"Refuelled car\")\n",
    "\n",
    "    def info(self):\n",
    "        print(\"Fuel: \",self.__fuel)\n",
    "\n",
    "\n",
    "#main program\n",
    "mycar=car()\n",
    "mycar.info()\n",
    "mycar.refuel(10)\n",
    "mycar.info()\n",
    "\n",
    "#mycar.__fuel=0\n",
    "mycar.info()\n"
   ]
  },
  {
   "cell_type": "code",
   "execution_count": 18,
   "metadata": {},
   "outputs": [
    {
     "name": "stdout",
     "output_type": "stream",
     "text": [
      "Charging vehicle\n",
      "Charging sports car\n",
      "100\n",
      "Charging vehicle\n",
      "Charging sports car\n"
     ]
    }
   ],
   "source": [
    "class Vehicle:  #parent class\n",
    "    pass\n",
    "\n",
    "class Car(Vehicle):  #single inheritance\n",
    "    pass\n",
    "\n",
    "class ElectricVehicle(Vehicle):  #single inheritance\n",
    "    def __init__(self):\n",
    "        self.battery=100\n",
    "\n",
    "    def chargeVehicle(self):\n",
    "        print(\"Charging vehicle\")\n",
    "\n",
    "class SportsCar(Car,ElectricVehicle):  #multiple inheritance\n",
    "\n",
    "    def chargeVehicle(self): #polymorphism\n",
    "        ElectricVehicle.chargeVehicle(self)\n",
    "        print(\"Charging sports car\")\n",
    "\n",
    "\n",
    "new=SportsCar()\n",
    "\n",
    "new.chargeVehicle()\n",
    "print(new.battery)\n",
    "\n",
    "new.chargeVehicle()\n"
   ]
  }
 ],
 "metadata": {
  "kernelspec": {
   "display_name": "Python 3",
   "language": "python",
   "name": "python3"
  },
  "language_info": {
   "codemirror_mode": {
    "name": "ipython",
    "version": 3
   },
   "file_extension": ".py",
   "mimetype": "text/x-python",
   "name": "python",
   "nbconvert_exporter": "python",
   "pygments_lexer": "ipython3",
   "version": "3.10.2"
  },
  "orig_nbformat": 4
 },
 "nbformat": 4,
 "nbformat_minor": 2
}
