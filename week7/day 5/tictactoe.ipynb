{
 "cells": [
  {
   "cell_type": "code",
   "execution_count": 48,
   "metadata": {},
   "outputs": [],
   "source": [
    "def display_board():\n",
    "    print(\"\\n\\n************\")\n",
    "    print(\"*  {} | {} | {}  *\".format(state[0][0], state[0][1], state[0][2]))\n",
    "    print(\"*----------*\")\n",
    "    print(\"*  {} | {} | {}  *\".format(state[1][0], state[1][1], state[1][2]))\n",
    "    print(\"*----------*\")\n",
    "    print(\"*  {} | {} | {}  *\".format(state[2][0], state[2][1], state[2][2]))\n",
    "    print(\"************\")"
   ]
  },
  {
   "cell_type": "code",
   "execution_count": 49,
   "metadata": {},
   "outputs": [],
   "source": [
    "def check_win():\n",
    "    pass"
   ]
  },
  {
   "cell_type": "code",
   "execution_count": 50,
   "metadata": {},
   "outputs": [],
   "source": [
    "def player_input(player):\n",
    "    print(f\"Player {player}'s turn\")\n",
    "\n",
    "    success=False\n",
    "    while success==False:\n",
    "        row=int(input(\"Enter row: \"))\n",
    "        col=int(input(\"Enter column: \"))\n",
    "\n",
    "        if state[row][col]==\" \":\n",
    "            state[row][col]=player\n",
    "            success=True\n",
    "        else:\n",
    "            print(\"Enter empty row and column please \\n\")"
   ]
  },
  {
   "cell_type": "code",
   "execution_count": 51,
   "metadata": {},
   "outputs": [],
   "source": [
    "def check_win():\n",
    "    win=False\n",
    "    # check row\n",
    "    for i in range(3):\n",
    "        if state[i][0]==state[i][1]==state[i][2]!=\" \":\n",
    "            winner=state[i][0]\n",
    "            return True\n",
    "        \n",
    "    # check columns\n",
    "    for j in range(3):\n",
    "        if state[0][j]==state[1][j]==state[2][j]!=\" \":\n",
    "            winner=state[0][j]\n",
    "            return True\n",
    "\n",
    "    # check diagonals\n",
    "    if state[0][0]==state[1][1]==state[2][2]!=\" \":\n",
    "        winner=state[1][1]\n",
    "        return True\n",
    "    \n",
    "    if state[0][2]==state[1][1]==state[2][0]!=\" \":\n",
    "        winner=state[1][1]\n",
    "        return True\n",
    "\n",
    "    return win"
   ]
  },
  {
   "cell_type": "code",
   "execution_count": 52,
   "metadata": {},
   "outputs": [],
   "source": [
    "def check_board_full():\n",
    "    full=True\n",
    "    for i in range(3):\n",
    "        for j in range(3):\n",
    "            if state[i][j]==\" \":\n",
    "                full=False\n",
    "    return full"
   ]
  },
  {
   "cell_type": "code",
   "execution_count": 53,
   "metadata": {},
   "outputs": [],
   "source": [
    "state=[ [' ',' ',' '],[' ',' ',' '],[' ',' ',' ']] #initialise empty board in global list state\n",
    "winner=None\n",
    "def play():\n",
    "    print(\"Welcome to Tic Tac Toe!\")\n",
    "    display_board() #display initial board\n",
    "\n",
    "    players=['X','O']\n",
    "    while True:\n",
    "        for player in players:\n",
    "           #Player input\n",
    "           player_input(player) \n",
    "\n",
    "           #display board\n",
    "           display_board() \n",
    "            \n",
    "            #check if player won\n",
    "           if check_win()==True:\n",
    "               print(f\"Player {winner} won!\")\n",
    "              \n",
    "            \n",
    "            #check if board is full\n",
    "           if check_board_full()==True:\n",
    "             print(\"Board is full. Game over\")\n",
    "             break\n"
   ]
  },
  {
   "cell_type": "code",
   "execution_count": 54,
   "metadata": {},
   "outputs": [
    {
     "name": "stdout",
     "output_type": "stream",
     "text": [
      "Welcome to Tic Tac Toe!\n",
      "\n",
      "\n",
      "************\n",
      "*   |  |   *\n",
      "*----------*\n",
      "*   |  |   *\n",
      "*----------*\n",
      "*   |  |   *\n",
      "************\n",
      "Player X's turn\n",
      "Enter empty row and column please \n",
      "\n"
     ]
    }
   ],
   "source": [
    "play()"
   ]
  }
 ],
 "metadata": {
  "kernelspec": {
   "display_name": "Python 3",
   "language": "python",
   "name": "python3"
  },
  "language_info": {
   "codemirror_mode": {
    "name": "ipython",
    "version": 3
   },
   "file_extension": ".py",
   "mimetype": "text/x-python",
   "name": "python",
   "nbconvert_exporter": "python",
   "pygments_lexer": "ipython3",
   "version": "3.10.2"
  },
  "orig_nbformat": 4
 },
 "nbformat": 4,
 "nbformat_minor": 2
}
