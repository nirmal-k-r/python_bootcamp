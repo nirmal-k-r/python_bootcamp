{
 "cells": [
  {
   "cell_type": "code",
   "execution_count": 1,
   "metadata": {},
   "outputs": [
    {
     "name": "stdout",
     "output_type": "stream",
     "text": [
      "GHeloow world\n"
     ]
    },
    {
     "ename": "ZeroDivisionError",
     "evalue": "division by zero",
     "output_type": "error",
     "traceback": [
      "\u001b[0;31m---------------------------------------------------------------------------\u001b[0m",
      "\u001b[0;31mZeroDivisionError\u001b[0m                         Traceback (most recent call last)",
      "\u001b[1;32m/Users/nirmal/Desktop/python_bootcamp/week7/day 3/advanced_functions.ipynb Cell 1\u001b[0m in \u001b[0;36m<cell line: 8>\u001b[0;34m()\u001b[0m\n\u001b[1;32m      <a href='vscode-notebook-cell:/Users/nirmal/Desktop/python_bootcamp/week7/day%203/advanced_functions.ipynb#W0sZmlsZQ%3D%3D?line=2'>3</a>\u001b[0m num2\u001b[39m=\u001b[39m\u001b[39m2\u001b[39m\n\u001b[1;32m      <a href='vscode-notebook-cell:/Users/nirmal/Desktop/python_bootcamp/week7/day%203/advanced_functions.ipynb#W0sZmlsZQ%3D%3D?line=4'>5</a>\u001b[0m humidity \u001b[39m=\u001b[39m \u001b[39m0\u001b[39m\n\u001b[0;32m----> <a href='vscode-notebook-cell:/Users/nirmal/Desktop/python_bootcamp/week7/day%203/advanced_functions.ipynb#W0sZmlsZQ%3D%3D?line=7'>8</a>\u001b[0m \u001b[39mprint\u001b[39m(\u001b[39m100\u001b[39;49m\u001b[39m/\u001b[39;49mhumidity)\n\u001b[1;32m     <a href='vscode-notebook-cell:/Users/nirmal/Desktop/python_bootcamp/week7/day%203/advanced_functions.ipynb#W0sZmlsZQ%3D%3D?line=9'>10</a>\u001b[0m \u001b[39mprint\u001b[39m(num\u001b[39m+\u001b[39mnum2)\n",
      "\u001b[0;31mZeroDivisionError\u001b[0m: division by zero"
     ]
    }
   ],
   "source": [
    "print(\"GHeloow world\")\n",
    "num=1\n",
    "num2=2\n",
    "\n",
    "humidity = 0\n",
    "\n",
    "\n",
    "print(100/humidity)\n",
    "\n",
    "print(num+num2)"
   ]
  },
  {
   "cell_type": "code",
   "execution_count": 1,
   "metadata": {},
   "outputs": [
    {
     "name": "stdout",
     "output_type": "stream",
     "text": [
      "Hello word\n"
     ]
    },
    {
     "ename": "ZeroDivisionError",
     "evalue": "division by zero",
     "output_type": "error",
     "traceback": [
      "\u001b[0;31m---------------------------------------------------------------------------\u001b[0m",
      "\u001b[0;31mZeroDivisionError\u001b[0m                         Traceback (most recent call last)",
      "\u001b[1;32m/Users/nirmal/Desktop/python_bootcamp/week7/day 3/advanced_functions.ipynb Cell 2\u001b[0m in \u001b[0;36m<cell line: 1>\u001b[0;34m()\u001b[0m\n\u001b[1;32m      <a href='vscode-notebook-cell:/Users/nirmal/Desktop/python_bootcamp/week7/day%203/advanced_functions.ipynb#W1sZmlsZQ%3D%3D?line=0'>1</a>\u001b[0m \u001b[39mwhile\u001b[39;00m \u001b[39mTrue\u001b[39;00m:\n\u001b[1;32m      <a href='vscode-notebook-cell:/Users/nirmal/Desktop/python_bootcamp/week7/day%203/advanced_functions.ipynb#W1sZmlsZQ%3D%3D?line=1'>2</a>\u001b[0m     \u001b[39mprint\u001b[39m(\u001b[39m\"\u001b[39m\u001b[39mHello word\u001b[39m\u001b[39m\"\u001b[39m)\n\u001b[0;32m----> <a href='vscode-notebook-cell:/Users/nirmal/Desktop/python_bootcamp/week7/day%203/advanced_functions.ipynb#W1sZmlsZQ%3D%3D?line=2'>3</a>\u001b[0m     \u001b[39mprint\u001b[39m(\u001b[39m1\u001b[39;49m\u001b[39m/\u001b[39;49m\u001b[39m0\u001b[39;49m)\n",
      "\u001b[0;31mZeroDivisionError\u001b[0m: division by zero"
     ]
    }
   ],
   "source": [
    "while True:\n",
    "    print(\"Hello word\")\n",
    "    print(1/0)"
   ]
  },
  {
   "cell_type": "code",
   "execution_count": 10,
   "metadata": {},
   "outputs": [
    {
     "name": "stdout",
     "output_type": "stream",
     "text": [
      "Program started\n",
      "ERROR OCCURED\n",
      "program completed successfully\n"
     ]
    }
   ],
   "source": [
    "#no error occurs\n",
    "print(\"Program started\")\n",
    "\n",
    "try:\n",
    "    result=100/0\n",
    "    print(\"This part should not work\")\n",
    "    print(result)\n",
    "except:\n",
    "    print(\"error occured\".upper())\n",
    "\n",
    "\n",
    "print(\"program completed successfully\")"
   ]
  },
  {
   "cell_type": "code",
   "execution_count": 7,
   "metadata": {},
   "outputs": [
    {
     "name": "stdout",
     "output_type": "stream",
     "text": [
      "Program started\n",
      "This part should not work\n",
      "100.0\n",
      "program completed successfully\n"
     ]
    }
   ],
   "source": [
    "#no error occurs\n",
    "print(\"Program started\")\n",
    "\n",
    "try:\n",
    "    result=100/1\n",
    "    print(\"This part should not work\")\n",
    "    print(result)\n",
    "except:\n",
    "    print(\"error occured\")\n",
    "\n",
    "\n",
    "print(\"program completed successfully\")"
   ]
  },
  {
   "cell_type": "code",
   "execution_count": 12,
   "metadata": {},
   "outputs": [
    {
     "name": "stdout",
     "output_type": "stream",
     "text": [
      "Program started\n",
      "Error occured:  division by zero\n",
      "program completed successfully\n"
     ]
    }
   ],
   "source": [
    "#display the error\n",
    "\n",
    "print(\"Program started\")\n",
    "\n",
    "try:\n",
    "    result=100/0\n",
    "    print(\"This part should not work\")\n",
    "    print(result)\n",
    "except Exception as e:\n",
    "    print(\"Error occured: \", e)\n",
    "\n",
    "\n",
    "print(\"program completed successfully\")"
   ]
  },
  {
   "cell_type": "code",
   "execution_count": 18,
   "metadata": {},
   "outputs": [
    {
     "name": "stdout",
     "output_type": "stream",
     "text": [
      "Program started\n",
      "zero division error occured\n"
     ]
    },
    {
     "ename": "ZeroDivisionError",
     "evalue": "division by zero",
     "output_type": "error",
     "traceback": [
      "\u001b[0;31m---------------------------------------------------------------------------\u001b[0m",
      "\u001b[0;31mZeroDivisionError\u001b[0m                         Traceback (most recent call last)",
      "\u001b[1;32m/Users/nirmal/Desktop/python_bootcamp/week7/day 3/advanced_functions.ipynb Cell 6\u001b[0m in \u001b[0;36m<cell line: 5>\u001b[0;34m()\u001b[0m\n\u001b[1;32m      <a href='vscode-notebook-cell:/Users/nirmal/Desktop/python_bootcamp/week7/day%203/advanced_functions.ipynb#W6sZmlsZQ%3D%3D?line=4'>5</a>\u001b[0m \u001b[39mtry\u001b[39;00m:\n\u001b[0;32m----> <a href='vscode-notebook-cell:/Users/nirmal/Desktop/python_bootcamp/week7/day%203/advanced_functions.ipynb#W6sZmlsZQ%3D%3D?line=5'>6</a>\u001b[0m     result\u001b[39m=\u001b[39m\u001b[39m100\u001b[39;49m\u001b[39m/\u001b[39;49m\u001b[39m0\u001b[39;49m\n\u001b[1;32m      <a href='vscode-notebook-cell:/Users/nirmal/Desktop/python_bootcamp/week7/day%203/advanced_functions.ipynb#W6sZmlsZQ%3D%3D?line=6'>7</a>\u001b[0m     \u001b[39mprint\u001b[39m(\u001b[39m\"\u001b[39m\u001b[39mThis part should not work\u001b[39m\u001b[39m\"\u001b[39m)\n",
      "\u001b[0;31mZeroDivisionError\u001b[0m: division by zero",
      "\nDuring handling of the above exception, another exception occurred:\n",
      "\u001b[0;31mZeroDivisionError\u001b[0m                         Traceback (most recent call last)",
      "\u001b[1;32m/Users/nirmal/Desktop/python_bootcamp/week7/day 3/advanced_functions.ipynb Cell 6\u001b[0m in \u001b[0;36m<cell line: 5>\u001b[0;34m()\u001b[0m\n\u001b[1;32m     <a href='vscode-notebook-cell:/Users/nirmal/Desktop/python_bootcamp/week7/day%203/advanced_functions.ipynb#W6sZmlsZQ%3D%3D?line=9'>10</a>\u001b[0m \u001b[39mexcept\u001b[39;00m \u001b[39mZeroDivisionError\u001b[39;00m \u001b[39mas\u001b[39;00m e:\n\u001b[1;32m     <a href='vscode-notebook-cell:/Users/nirmal/Desktop/python_bootcamp/week7/day%203/advanced_functions.ipynb#W6sZmlsZQ%3D%3D?line=10'>11</a>\u001b[0m     \u001b[39mprint\u001b[39m(\u001b[39m\"\u001b[39m\u001b[39mzero division error occured\u001b[39m\u001b[39m\"\u001b[39m)\n\u001b[0;32m---> <a href='vscode-notebook-cell:/Users/nirmal/Desktop/python_bootcamp/week7/day%203/advanced_functions.ipynb#W6sZmlsZQ%3D%3D?line=11'>12</a>\u001b[0m     \u001b[39mprint\u001b[39m(\u001b[39m1\u001b[39;49m\u001b[39m/\u001b[39;49m\u001b[39m0\u001b[39;49m)\n\u001b[1;32m     <a href='vscode-notebook-cell:/Users/nirmal/Desktop/python_bootcamp/week7/day%203/advanced_functions.ipynb#W6sZmlsZQ%3D%3D?line=12'>13</a>\u001b[0m     \u001b[39mprint\u001b[39m(e)\n\u001b[1;32m     <a href='vscode-notebook-cell:/Users/nirmal/Desktop/python_bootcamp/week7/day%203/advanced_functions.ipynb#W6sZmlsZQ%3D%3D?line=14'>15</a>\u001b[0m \u001b[39mexcept\u001b[39;00m \u001b[39mNameError\u001b[39;00m \u001b[39mas\u001b[39;00m e:\n",
      "\u001b[0;31mZeroDivisionError\u001b[0m: division by zero"
     ]
    }
   ],
   "source": [
    "#catch specific exception\n",
    "\n",
    "print(\"Program started\")\n",
    "\n",
    "try:\n",
    "    result=100/1\n",
    "    print(\"This part should not work\")\n",
    "    print(result2)\n",
    "\n",
    "except ZeroDivisionError as e:\n",
    "    print(\"zero division error occured\")\n",
    "    print(e)\n",
    "\n",
    "except NameError as e:\n",
    "    print(\"name error occured\")\n",
    "    print(e)\n",
    "\n",
    "except Exception as e:\n",
    "    print(\"general exception occured\")\n",
    "    print(e)\n",
    "\n",
    "\n",
    "\n",
    "print(\"program completed successfully\")"
   ]
  },
  {
   "cell_type": "code",
   "execution_count": 21,
   "metadata": {},
   "outputs": [
    {
     "name": "stdout",
     "output_type": "stream",
     "text": [
      "Program started\n",
      "Error occured:  division by zero\n",
      "program completed successfully\n"
     ]
    }
   ],
   "source": [
    "#try except else\n",
    "\n",
    "print(\"Program started\")\n",
    "\n",
    "try:\n",
    "    result=100/0\n",
    "    print(result)\n",
    "\n",
    "except Exception as e:\n",
    "    print(\"Error occured: \", e)\n",
    "\n",
    "else: #only runs if no error occured\n",
    "    print(\"Success no error occured\")\n",
    "\n",
    "\n",
    "print(\"program completed successfully\")"
   ]
  },
  {
   "cell_type": "code",
   "execution_count": 23,
   "metadata": {},
   "outputs": [
    {
     "name": "stdout",
     "output_type": "stream",
     "text": [
      "Program started\n",
      "100.0\n",
      "Success no error occured\n",
      "This part always runs\n",
      "program completed successfully\n"
     ]
    }
   ],
   "source": [
    "#try except else finally\n",
    "\n",
    "print(\"Program started\")\n",
    "\n",
    "try:\n",
    "    result=100/1\n",
    "    print(result)\n",
    "\n",
    "except Exception as e:\n",
    "    print(\"Error occured: \", e)\n",
    "\n",
    "else: #only runs if no error occured\n",
    "    print(\"Success no error occured\")\n",
    "\n",
    "finally:\n",
    "    print(\"This part always runs\")\n",
    "\n",
    "\n",
    "print(\"program completed successfully\")"
   ]
  },
  {
   "cell_type": "code",
   "execution_count": 26,
   "metadata": {},
   "outputs": [
    {
     "name": "stdout",
     "output_type": "stream",
     "text": [
      "Program started\n",
      "hello world\n",
      "Error occured:  division by zero\n",
      "program completed successfully\n"
     ]
    }
   ],
   "source": [
    "#display the error\n",
    "\n",
    "print(\"Program started\")\n",
    "\n",
    "try:\n",
    "    print('hello world')\n",
    "    result=100/0\n",
    "    print(\"This part should not work\")\n",
    "    print(result)\n",
    "except Exception as e:\n",
    "    print(\"Error occured: \", e)\n",
    "\n",
    "\n",
    "print(\"program completed successfully\")"
   ]
  },
  {
   "cell_type": "code",
   "execution_count": 53,
   "metadata": {},
   "outputs": [
    {
     "name": "stdout",
     "output_type": "stream",
     "text": [
      "59\n"
     ]
    }
   ],
   "source": [
    "my_list = [2,3,1,2,\"four\",42,1,5,3,\"imanumber\"]\n",
    "\n",
    "total=0\n",
    "\n",
    "for num in my_list:\n",
    "    try:\n",
    "        total+=int(num)\n",
    "    except:\n",
    "        pass\n",
    "\n",
    "print(total)\n",
    "\n"
   ]
  },
  {
   "cell_type": "code",
   "execution_count": 54,
   "metadata": {},
   "outputs": [
    {
     "ename": "Exception",
     "evalue": "cannot divide by zero",
     "output_type": "error",
     "traceback": [
      "\u001b[0;31m---------------------------------------------------------------------------\u001b[0m",
      "\u001b[0;31mException\u001b[0m                                 Traceback (most recent call last)",
      "\u001b[1;32m/Users/nirmal/Desktop/python_bootcamp/week7/day 3/advanced_functions.ipynb Cell 11\u001b[0m in \u001b[0;36m<cell line: 4>\u001b[0;34m()\u001b[0m\n\u001b[1;32m      <a href='vscode-notebook-cell:/Users/nirmal/Desktop/python_bootcamp/week7/day%203/advanced_functions.ipynb#X15sZmlsZQ%3D%3D?line=1'>2</a>\u001b[0m num2\u001b[39m=\u001b[39m\u001b[39m0\u001b[39m\n\u001b[1;32m      <a href='vscode-notebook-cell:/Users/nirmal/Desktop/python_bootcamp/week7/day%203/advanced_functions.ipynb#X15sZmlsZQ%3D%3D?line=3'>4</a>\u001b[0m \u001b[39mif\u001b[39;00m (num2\u001b[39m==\u001b[39m\u001b[39m0\u001b[39m):\n\u001b[0;32m----> <a href='vscode-notebook-cell:/Users/nirmal/Desktop/python_bootcamp/week7/day%203/advanced_functions.ipynb#X15sZmlsZQ%3D%3D?line=4'>5</a>\u001b[0m     \u001b[39mraise\u001b[39;00m \u001b[39mException\u001b[39;00m(\u001b[39m\"\u001b[39m\u001b[39mcannot divide by zero\u001b[39m\u001b[39m\"\u001b[39m)\n",
      "\u001b[0;31mException\u001b[0m: cannot divide by zero"
     ]
    }
   ],
   "source": [
    "#raising exceptions\n",
    "num1=100\n",
    "num2=0\n",
    "\n",
    "if (num2==0):\n",
    "    raise Exception(\"cannot divide by zero\")"
   ]
  },
  {
   "cell_type": "code",
   "execution_count": 58,
   "metadata": {},
   "outputs": [
    {
     "name": "stdout",
     "output_type": "stream",
     "text": [
      "40\n",
      "-20\n"
     ]
    }
   ],
   "source": [
    "def add(num1,num2):\n",
    "    return num1+num2\n",
    "\n",
    "def subtract(num1,num2):\n",
    "    return num1-num2\n",
    "\n",
    "addition=add(10,30)\n",
    "subtraction=subtract(10,30)\n",
    "\n",
    "print(addition)\n",
    "print(subtraction)"
   ]
  },
  {
   "cell_type": "code",
   "execution_count": null,
   "metadata": {},
   "outputs": [],
   "source": [
    "def add(num1,num2):\n",
    "    return num1+num2\n",
    "\n",
    "addition=add(10,30)\n",
    "\n",
    "\n",
    "print(addition)"
   ]
  },
  {
   "cell_type": "code",
   "execution_count": 59,
   "metadata": {},
   "outputs": [
    {
     "name": "stdout",
     "output_type": "stream",
     "text": [
      "60\n"
     ]
    }
   ],
   "source": [
    "def add(numbers):\n",
    "    total=0\n",
    "    for num in numbers:\n",
    "        total+=num\n",
    "\n",
    "    return total\n",
    "\n",
    "num1=10\n",
    "num2=20\n",
    "num3=30\n",
    "\n",
    "result=add([num1,num2,num3])\n",
    "\n",
    "print(result)"
   ]
  },
  {
   "cell_type": "code",
   "execution_count": 63,
   "metadata": {},
   "outputs": [
    {
     "name": "stdout",
     "output_type": "stream",
     "text": [
      "0\n",
      "110\n",
      "60\n"
     ]
    }
   ],
   "source": [
    "#*args\n",
    "def add(*numbers):\n",
    "    total=0\n",
    "    for num in numbers:\n",
    "        total+=num\n",
    "\n",
    "    return total\n",
    "\n",
    "num1=10\n",
    "num2=20\n",
    "num3=30\n",
    "result=add(10,30,10,20,40)\n",
    "\n",
    "result2=add(num1,num2,num3)\n",
    "\n",
    "print(result)\n",
    "print(result2)"
   ]
  },
  {
   "cell_type": "code",
   "execution_count": 68,
   "metadata": {},
   "outputs": [
    {
     "name": "stdout",
     "output_type": "stream",
     "text": [
      "0.0\n"
     ]
    }
   ],
   "source": [
    "# **kwargs\n",
    "\n",
    "def divide(num1,num2):\n",
    "    return num1/num2\n",
    "\n",
    "result= divide(num2=100,num1=0)\n",
    "print(result)"
   ]
  },
  {
   "cell_type": "code",
   "execution_count": 75,
   "metadata": {},
   "outputs": [
    {
     "name": "stdout",
     "output_type": "stream",
     "text": [
      "0.0\n"
     ]
    }
   ],
   "source": [
    "def divide(**numbers):\n",
    "    print(numbers['num1']/numbers['num2'])\n",
    "\n",
    "\n",
    "divide(num1=0,num2=100)"
   ]
  },
  {
   "cell_type": "code",
   "execution_count": 78,
   "metadata": {},
   "outputs": [
    {
     "name": "stdout",
     "output_type": "stream",
     "text": [
      "{'name': 'John', 'age': 30, 'city': 'New York', 'country': 'USA'}\n"
     ]
    }
   ],
   "source": [
    "def display_info(**person):\n",
    "    print(person)\n",
    "\n",
    "display_info(name=\"John\",age=30,city=\"New York\",country=\"USA\")"
   ]
  },
  {
   "cell_type": "code",
   "execution_count": 80,
   "metadata": {},
   "outputs": [
    {
     "data": {
      "text/plain": [
       "10"
      ]
     },
     "execution_count": 80,
     "metadata": {},
     "output_type": "execute_result"
    }
   ],
   "source": [
    "def add(num1, *numbers):\n",
    "    total=num1\n",
    "    for num in numbers:\n",
    "        total+=num\n",
    "\n",
    "    return total\n",
    "\n",
    "\n",
    "add(1,2,3,4)"
   ]
  },
  {
   "cell_type": "code",
   "execution_count": 81,
   "metadata": {},
   "outputs": [
    {
     "data": {
      "text/plain": [
       "110"
      ]
     },
     "execution_count": 81,
     "metadata": {},
     "output_type": "execute_result"
    }
   ],
   "source": [
    "def add(num1, *numbers, **my_nums):\n",
    "    total=num1\n",
    "    for num in numbers:\n",
    "        total+=num\n",
    "\n",
    "    total=total+my_nums['final']\n",
    "    return total\n",
    "\n",
    "\n",
    "add(1,2,3,4,final=100)"
   ]
  },
  {
   "cell_type": "code",
   "execution_count": 94,
   "metadata": {},
   "outputs": [
    {
     "name": "stdout",
     "output_type": "stream",
     "text": [
      "{'name': 'Gunther', 'age': 30}\n",
      "{'John': {'age': 30, 'city': 'New York', 'country': 'USA'}, 'Mary': {'age': 25, 'city': 'London', 'country': 'UK'}, 'Bob': {'age': 35, 'city': 'Paris', 'country': 'France'}, 'Rachel': {'age': 40, 'city': 'Berlin', 'country': 'Germany'}, 'Phoebe': {'age': 45, 'city': 'Rome', 'country': 'Italy'}, 'Ross': {'age': 50, 'city': 'Madrid', 'country': 'Spain'}, 'Chandler': {'age': 55, 'city': 'Tokyo', 'country': 'Japan'}, 'Monica': {'age': 60, 'city': 'Sydney', 'country': 'Australia'}, 'Joey': {'age': 65, 'city': 'Toronto', 'country': 'Canada'}, 'Gunther': {'age': 30}}\n"
     ]
    }
   ],
   "source": [
    "students={\n",
    "    \"John\": {\"age\":30,\"city\":\"New York\",\"country\":\"USA\"},\n",
    "    \"Mary\": {\"age\":25,\"city\":\"London\",\"country\":\"UK\"},\n",
    "    \"Bob\": {\"age\":35,\"city\":\"Paris\",\"country\":\"France\"},\n",
    "    \"Rachel\": {\"age\":40,\"city\":\"Berlin\",\"country\":\"Germany\"},\n",
    "    \"Phoebe\": {\"age\":45,\"city\":\"Rome\",\"country\":\"Italy\"},\n",
    "    \"Ross\": {\"age\":50,\"city\":\"Madrid\",\"country\":\"Spain\"},\n",
    "    \"Chandler\": {\"age\":55,\"city\":\"Tokyo\",\"country\":\"Japan\"},\n",
    "    \"Monica\": {\"age\":60,\"city\":\"Sydney\",\"country\":\"Australia\"},\n",
    "    \"Joey\": {\"age\":65,\"city\":\"Toronto\",\"country\":\"Canada\"},\n",
    "}\n",
    "\n",
    "def add_student(**student):\n",
    "    print(student)\n",
    "    new_student={}\n",
    "    if 'age' in student:\n",
    "        new_student['age']=student['age']\n",
    "    \n",
    "    if 'city' in student:\n",
    "        new_student['city']=student['city']\n",
    "    \n",
    "    if 'country' in student:\n",
    "        new_student['country']=student['country']\n",
    "    \n",
    "\n",
    "    students[student['name']]=new_student\n",
    "\n",
    "   \n",
    "add_student(name=\"Gunther\",age=30)\n",
    "\n",
    "print(students)"
   ]
  },
  {
   "cell_type": "code",
   "execution_count": 101,
   "metadata": {},
   "outputs": [
    {
     "name": "stdout",
     "output_type": "stream",
     "text": [
      "['john', 'mary', 'bob', 'rachel', 'phoebe', 'ross', 'chandler', 'monica', 'joey']\n",
      "[11, 12, 13, 14, 15, 16, 17, 18, 19, 20]\n"
     ]
    }
   ],
   "source": [
    "names=[\"John\",\"Mary\",\"Bob\",\"Rachel\",\"Phoebe\",\"Ross\",\"Chandler\",\"Monica\",\"Joey\"]\n",
    "\n",
    "def my_upper(name):\n",
    "    return name.upper()\n",
    "\n",
    "upper_names=map(my_upper,names)\n",
    "\n",
    "print(list(upper_names))    \n",
    "\n",
    "\n",
    "numbers=[1,2,3,4,5,6,7,8,9,10]\n",
    "\n",
    "def increment_10(num):\n",
    "    return num+10\n",
    "\n",
    "incremented=map(increment_10,numbers)\n",
    "\n",
    "print(list(incremented))\n"
   ]
  },
  {
   "cell_type": "code",
   "execution_count": 104,
   "metadata": {},
   "outputs": [
    {
     "name": "stdout",
     "output_type": "stream",
     "text": [
      "[10, 20, 30, 40]\n"
     ]
    }
   ],
   "source": [
    "prices=[10,20,30,40,50,60,70]\n",
    "\n",
    "\n",
    "def filter_prices(price):\n",
    "    # return price < 50\n",
    "    if price<50:\n",
    "        return True\n",
    "    else:\n",
    "        return False\n",
    "\n",
    "\n",
    "filtered_prices=filter(filter_prices,prices)\n",
    "\n",
    "print(list(filtered_prices))\n"
   ]
  },
  {
   "cell_type": "code",
   "execution_count": 110,
   "metadata": {},
   "outputs": [
    {
     "ename": "TypeError",
     "evalue": "can only concatenate str (not \"int\") to str",
     "output_type": "error",
     "traceback": [
      "\u001b[0;31m---------------------------------------------------------------------------\u001b[0m",
      "\u001b[0;31mTypeError\u001b[0m                                 Traceback (most recent call last)",
      "\u001b[1;32m/Users/nirmal/Desktop/python_bootcamp/week7/day 3/advanced_functions.ipynb Cell 24\u001b[0m in \u001b[0;36m<cell line: 8>\u001b[0;34m()\u001b[0m\n\u001b[1;32m      <a href='vscode-notebook-cell:/Users/nirmal/Desktop/python_bootcamp/week7/day%203/advanced_functions.ipynb#X36sZmlsZQ%3D%3D?line=4'>5</a>\u001b[0m \u001b[39mdef\u001b[39;00m \u001b[39mcreate_sentence\u001b[39m(first,second):\n\u001b[1;32m      <a href='vscode-notebook-cell:/Users/nirmal/Desktop/python_bootcamp/week7/day%203/advanced_functions.ipynb#X36sZmlsZQ%3D%3D?line=5'>6</a>\u001b[0m     \u001b[39mreturn\u001b[39;00m first\u001b[39m+\u001b[39m\u001b[39m\"\u001b[39m\u001b[39m \u001b[39m\u001b[39m\"\u001b[39m\u001b[39m+\u001b[39msecond\n\u001b[0;32m----> <a href='vscode-notebook-cell:/Users/nirmal/Desktop/python_bootcamp/week7/day%203/advanced_functions.ipynb#X36sZmlsZQ%3D%3D?line=7'>8</a>\u001b[0m sentence\u001b[39m=\u001b[39mreduce(create_sentence,words)\n\u001b[1;32m      <a href='vscode-notebook-cell:/Users/nirmal/Desktop/python_bootcamp/week7/day%203/advanced_functions.ipynb#X36sZmlsZQ%3D%3D?line=8'>9</a>\u001b[0m \u001b[39mprint\u001b[39m(sentence)\n",
      "\u001b[1;32m/Users/nirmal/Desktop/python_bootcamp/week7/day 3/advanced_functions.ipynb Cell 24\u001b[0m in \u001b[0;36mcreate_sentence\u001b[0;34m(first, second)\u001b[0m\n\u001b[1;32m      <a href='vscode-notebook-cell:/Users/nirmal/Desktop/python_bootcamp/week7/day%203/advanced_functions.ipynb#X36sZmlsZQ%3D%3D?line=4'>5</a>\u001b[0m \u001b[39mdef\u001b[39;00m \u001b[39mcreate_sentence\u001b[39m(first,second):\n\u001b[0;32m----> <a href='vscode-notebook-cell:/Users/nirmal/Desktop/python_bootcamp/week7/day%203/advanced_functions.ipynb#X36sZmlsZQ%3D%3D?line=5'>6</a>\u001b[0m     \u001b[39mreturn\u001b[39;00m first\u001b[39m+\u001b[39;49m\u001b[39m\"\u001b[39;49m\u001b[39m \u001b[39;49m\u001b[39m\"\u001b[39;49m\u001b[39m+\u001b[39;49msecond\n",
      "\u001b[0;31mTypeError\u001b[0m: can only concatenate str (not \"int\") to str"
     ]
    }
   ],
   "source": [
    "from functools import reduce\n",
    "\n",
    "words=[\"hello\",\"world\",\"python\",\"is\",\"fun\"]\n",
    "\n",
    "def create_sentence(first,second):\n",
    "    return first+\" \"+second\n",
    "    \n",
    "sentence=reduce(create_sentence,words)\n",
    "print(sentence)"
   ]
  },
  {
   "cell_type": "code",
   "execution_count": 113,
   "metadata": {},
   "outputs": [
    {
     "name": "stdout",
     "output_type": "stream",
     "text": [
      "1\n"
     ]
    }
   ],
   "source": [
    "i=0\n",
    "\n",
    "increment=lambda i: i+1 #one line lambda function\n",
    "\n",
    "i=increment(i)\n",
    "\n",
    "print(i)\n",
    "\n",
    "\n"
   ]
  },
  {
   "cell_type": "code",
   "execution_count": 114,
   "metadata": {},
   "outputs": [
    {
     "name": "stdout",
     "output_type": "stream",
     "text": [
      "john smith is 30 years old\n"
     ]
    }
   ],
   "source": [
    "\n",
    "def display_details(first_name,last_name,age):\n",
    "    print(f\"{first_name} {last_name} is {age} years old\")\n",
    "\n",
    "\n",
    "display_details(\"john\",\"smith\",30)\n",
    "\n"
   ]
  },
  {
   "cell_type": "code",
   "execution_count": 124,
   "metadata": {},
   "outputs": [
    {
     "name": "stdout",
     "output_type": "stream",
     "text": [
      "John Smith is 30 years old\n"
     ]
    }
   ],
   "source": [
    "\n",
    "def display_details(name,age):\n",
    "    print(f\"{name} is {age} years old\")\n",
    "\n",
    "name=lambda first_name, last_name: (first_name.capitalize()+\" \" +last_name.capitalize())\n",
    "\n",
    "display_details(name(\"john\",\"smith\"),30)"
   ]
  }
 ],
 "metadata": {
  "kernelspec": {
   "display_name": "Python 3",
   "language": "python",
   "name": "python3"
  },
  "language_info": {
   "codemirror_mode": {
    "name": "ipython",
    "version": 3
   },
   "file_extension": ".py",
   "mimetype": "text/x-python",
   "name": "python",
   "nbconvert_exporter": "python",
   "pygments_lexer": "ipython3",
   "version": "3.10.2"
  },
  "orig_nbformat": 4
 },
 "nbformat": 4,
 "nbformat_minor": 2
}
