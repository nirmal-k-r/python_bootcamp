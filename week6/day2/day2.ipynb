{
 "cells": [
  {
   "cell_type": "code",
   "execution_count": 4,
   "metadata": {},
   "outputs": [
    {
     "name": "stdout",
     "output_type": "stream",
     "text": [
      "[10, 20, 30, 40, 50, 60]\n",
      "<class 'list'>\n"
     ]
    }
   ],
   "source": [
    "#Lists\n",
    "\n",
    "marks = [10, 20, 30, 40, 50] #initiliasing a list of integers\n",
    "\n",
    "marks.append(60) #add to the list (push in list)\n",
    "\n",
    "print(marks)\n",
    "print(type(marks))\n"
   ]
  },
  {
   "cell_type": "code",
   "execution_count": 46,
   "metadata": {},
   "outputs": [
    {
     "name": "stdout",
     "output_type": "stream",
     "text": [
      "ram\n",
      "shyam\n",
      "hari\n",
      "gita\n",
      "sita\n"
     ]
    }
   ],
   "source": [
    "#access the list\n",
    "\n",
    "names=['ram', 'shyam', 'hari', 'gita', 'sita']\n",
    "\n",
    "print(names[0])\n",
    "print(names[1])\n",
    "print(names[2])\n",
    "print(names[3])\n",
    "print(names[4])\n",
    "\n",
    "# print(names[5])"
   ]
  },
  {
   "cell_type": "code",
   "execution_count": 11,
   "metadata": {},
   "outputs": [
    {
     "name": "stdout",
     "output_type": "stream",
     "text": [
      "sita\n",
      "ram\n"
     ]
    }
   ],
   "source": [
    "#access list using circular index\n",
    "\n",
    "names=['ram', 'shyam', 'hari', 'gita', 'sita']\n",
    "\n",
    "index=len(names)-1\n",
    "\n",
    "print(names[index])\n",
    "\n",
    "print(names[-1])"
   ]
  },
  {
   "cell_type": "code",
   "execution_count": 14,
   "metadata": {},
   "outputs": [
    {
     "name": "stdout",
     "output_type": "stream",
     "text": [
      "['John', 20, True, 1.75]\n",
      "<class 'str'>\n",
      "<class 'bool'>\n"
     ]
    }
   ],
   "source": [
    "person=[\"John\",20,True,1.75]\n",
    "\n",
    "print(person)\n",
    "\n",
    "print(type(person[0]))\n",
    "\n",
    "print(type(person[2]))"
   ]
  },
  {
   "cell_type": "code",
   "execution_count": 18,
   "metadata": {},
   "outputs": [
    {
     "name": "stdout",
     "output_type": "stream",
     "text": [
      "[10, 20, 30, 40, 100, 60]\n"
     ]
    }
   ],
   "source": [
    "#updating list elements\n",
    "marks=[10,20,30,40,50]\n",
    "marks[4]=100\n",
    "\n",
    "\n",
    "print(marks)"
   ]
  },
  {
   "cell_type": "code",
   "execution_count": 23,
   "metadata": {},
   "outputs": [
    {
     "name": "stdout",
     "output_type": "stream",
     "text": [
      "['shyam', 'gita', 'sita']\n",
      "gita\n",
      "['shyam', 'sita']\n"
     ]
    }
   ],
   "source": [
    "#removing values from the list\n",
    "names=['ram', 'shyam', 'hari', 'gita', 'sita']\n",
    "\n",
    "del names[2]  #remove using index\n",
    "\n",
    "names.remove('ram')  #remove using value\n",
    "\n",
    "print(names)\n",
    "\n",
    "\n",
    "# popped_value=names.pop() #remove last element and retuned it\n",
    "popped_value=names.pop(1) #remove element at index and return it\n",
    "\n",
    "print(popped_value)\n",
    "print(names)\n"
   ]
  },
  {
   "cell_type": "code",
   "execution_count": 24,
   "metadata": {},
   "outputs": [
    {
     "name": "stdout",
     "output_type": "stream",
     "text": [
      "[1, 2, 3, 4, 5, 6]\n"
     ]
    }
   ],
   "source": [
    "#adding lists\n",
    "a=[1,2,3]\n",
    "b=[4,5,6]\n",
    "\n",
    "c=a+b\n",
    "\n",
    "print(c)"
   ]
  },
  {
   "cell_type": "code",
   "execution_count": 36,
   "metadata": {},
   "outputs": [
    {
     "name": "stdout",
     "output_type": "stream",
     "text": [
      "21\n",
      "['gita', 'hari', 'ram', 'shyam', 'sita']\n",
      "[1, 2, 182, 193, 472]\n",
      "['John', 'Doe', 20, True, 1.75]\n",
      "[1, 2, 3, 4, 5, 6, 7, 8, 9]\n"
     ]
    }
   ],
   "source": [
    "#list function\n",
    "a=[1,2,3,4,5,6]\n",
    "print(sum(a))\n",
    "\n",
    "\n",
    "names=['ram', 'shyam', 'hari', 'gita', 'sita']\n",
    "# names.sort()\n",
    "\n",
    "names=sorted(names)\n",
    "\n",
    "nums=[1,472,193,182,2]\n",
    "nums.sort()\n",
    "\n",
    "print(names)\n",
    "\n",
    "print(nums)\n",
    "\n",
    "\n",
    "person=[\"John\",20,True,1.75]\n",
    "person.insert(1,\"Doe\")\n",
    "\n",
    "print(person)\n",
    "\n",
    "\n",
    "a=[1,2,3,4,5,6]\n",
    "# a.reverse()\n",
    "# print(a)\n",
    "a.extend([7,8,9])\n",
    "print(a)\n",
    "\n"
   ]
  },
  {
   "cell_type": "code",
   "execution_count": 39,
   "metadata": {},
   "outputs": [
    {
     "name": "stdout",
     "output_type": "stream",
     "text": [
      "John\n",
      "20\n",
      "True\n",
      "1.75\n"
     ]
    }
   ],
   "source": [
    "person=[\"John\",20,True,1.75]\n",
    "\n",
    "for item in person:\n",
    "    print(item)\n",
    "\n",
    "\n"
   ]
  },
  {
   "cell_type": "code",
   "execution_count": 44,
   "metadata": {},
   "outputs": [
    {
     "name": "stdout",
     "output_type": "stream",
     "text": [
      "John\n",
      "20\n",
      "True\n",
      "1.75\n"
     ]
    }
   ],
   "source": [
    "person=[\"John\",20,True,1.75]\n",
    "\n",
    "for i in range(len(person)):\n",
    "    print(person[i])"
   ]
  },
  {
   "cell_type": "code",
   "execution_count": 45,
   "metadata": {},
   "outputs": [
    {
     "name": "stdout",
     "output_type": "stream",
     "text": [
      "10\n",
      "20\n",
      "30\n",
      "40\n",
      "50\n"
     ]
    }
   ],
   "source": [
    "i=0\n",
    "\n",
    "marks=[10,20,30,40,50]\n",
    "\n",
    "while i < len(marks):\n",
    "    print(marks[i])\n",
    "    i=i+1"
   ]
  },
  {
   "cell_type": "code",
   "execution_count": 48,
   "metadata": {},
   "outputs": [
    {
     "name": "stdout",
     "output_type": "stream",
     "text": [
      "J\n",
      "o\n",
      "h\n",
      "n\n",
      "T\n",
      "h\n",
      "i\n",
      "s\n",
      " \n",
      "i\n",
      "s\n",
      " \n",
      "a\n",
      " \n",
      "s\n",
      "e\n",
      "n\n",
      "t\n",
      "e\n",
      "n\n",
      "c\n",
      "e\n"
     ]
    }
   ],
   "source": [
    "#strings\n",
    "\n",
    "name=\"John\" #string = list of characters\n",
    "\n",
    "# name=['J','o','h','n']\n",
    "\n",
    "for character in name:\n",
    "    print(character)\n",
    "\n",
    "text='This is a sentence'\n",
    "for character in text:\n",
    "    print(character)"
   ]
  },
  {
   "cell_type": "code",
   "execution_count": 51,
   "metadata": {},
   "outputs": [
    {
     "name": "stdout",
     "output_type": "stream",
     "text": [
      "i\n",
      "This is\n"
     ]
    }
   ],
   "source": [
    "name=\"Nirmal\"\n",
    "# print(list(name))\n",
    "\n",
    "print(name[1])\n",
    "\n",
    "\n",
    "#string slicing\n",
    "sentence=\"This is a sentence\"\n",
    "\n",
    "print(sentence[0:7])"
   ]
  },
  {
   "cell_type": "code",
   "execution_count": 55,
   "metadata": {},
   "outputs": [
    {
     "name": "stdout",
     "output_type": "stream",
     "text": [
      "John\n"
     ]
    }
   ],
   "source": [
    "#tuples\n",
    "person2=(\"John\",20,1.65)\n",
    "\n",
    "print(person2[0])\n",
    "\n"
   ]
  },
  {
   "cell_type": "code",
   "execution_count": 61,
   "metadata": {},
   "outputs": [
    {
     "name": "stdout",
     "output_type": "stream",
     "text": [
      "{2, 3, 4, 5, 6}\n"
     ]
    }
   ],
   "source": [
    "#sets\n",
    "\n",
    "a={1,2,3,4,5}\n",
    "\n",
    "a.add(2)\n",
    "a.add(6)\n",
    "\n",
    "a.remove(1)\n",
    "\n",
    "print(a)\n"
   ]
  },
  {
   "cell_type": "code",
   "execution_count": 64,
   "metadata": {},
   "outputs": [
    {
     "name": "stdout",
     "output_type": "stream",
     "text": [
      "{1, 2, 3, 4, 5}\n",
      "1\n",
      "2\n",
      "3\n",
      "4\n",
      "5\n",
      "1\n"
     ]
    }
   ],
   "source": [
    "#accessing set\n",
    "a={1,2,3,4,5}\n",
    "\n",
    "print(a)\n",
    "\n",
    "for item in a:\n",
    "    print(item)\n",
    "\n",
    "b=list(a)\n",
    "print(b[0])"
   ]
  },
  {
   "cell_type": "code",
   "execution_count": 67,
   "metadata": {},
   "outputs": [
    {
     "name": "stdout",
     "output_type": "stream",
     "text": [
      "{1, 2, 3, 4, 5}\n"
     ]
    }
   ],
   "source": [
    "a={1,2,3}\n",
    "\n",
    "b={4,5}\n",
    "\n",
    "c=a.union(b)\n",
    "\n",
    "print(c)"
   ]
  },
  {
   "cell_type": "code",
   "execution_count": 68,
   "metadata": {},
   "outputs": [
    {
     "name": "stdout",
     "output_type": "stream",
     "text": [
      "{2, 3}\n"
     ]
    }
   ],
   "source": [
    "a={1,2,3}\n",
    "\n",
    "b={2,3,4}\n",
    "\n",
    "print(a.intersection(b))"
   ]
  },
  {
   "cell_type": "code",
   "execution_count": 73,
   "metadata": {},
   "outputs": [
    {
     "name": "stdout",
     "output_type": "stream",
     "text": [
      "{1, 2, 3}\n",
      "set()\n"
     ]
    }
   ],
   "source": [
    "a={1,2,3,4,5}\n",
    "\n",
    "b={4,5}\n",
    "\n",
    "c=a.difference(b)\n",
    "\n",
    "\n",
    "d=b.difference(a)\n",
    "\n",
    "print(c)\n",
    "\n",
    "print(d)\n",
    "\n"
   ]
  },
  {
   "cell_type": "code",
   "execution_count": 81,
   "metadata": {},
   "outputs": [
    {
     "name": "stdout",
     "output_type": "stream",
     "text": [
      "John\n",
      "20\n",
      "{'name': 'John', 'age': 20, 'married': False, 'height': 1.2}\n",
      "{'name': 'John', 'age': 21, 'married': False, 'height': 1.5}\n",
      "{'name': 'John', 'age': 21, 'height': 1.5}\n"
     ]
    }
   ],
   "source": [
    "#dictionary\n",
    "\n",
    "person={\n",
    "    \"name\":\"John\",\n",
    "    \"age\":20,\n",
    "    \"married\": False\n",
    "}\n",
    "\n",
    "print(person['name'])\n",
    "print(person['age'])\n",
    "\n",
    "person['height']=1.2\n",
    "\n",
    "print(person)\n",
    "\n",
    "person['age']=person['age']+1\n",
    "\n",
    "person['height']=1.5\n",
    "\n",
    "print(person)\n",
    "\n",
    "del person['married']\n",
    "\n",
    "print(person)\n",
    "\n",
    "\n"
   ]
  },
  {
   "cell_type": "code",
   "execution_count": 114,
   "metadata": {},
   "outputs": [
    {
     "name": "stdout",
     "output_type": "stream",
     "text": [
      "dict_items([('name', 'John'), ('age', 20), ('married', False)])\n",
      "('name', 'John')\n",
      "('age', 20)\n",
      "('married', False)\n"
     ]
    }
   ],
   "source": [
    "#tuple unpacking\n",
    "\n",
    "person={\n",
    "    \"name\":\"John\",\n",
    "    \"age\":20,\n",
    "    \"married\": False\n",
    "}\n",
    "\n",
    "print(person.items())\n",
    "\n",
    "unpacked_values=person.items()\n",
    "\n",
    "for item in unpacked_values:\n",
    "    print(item)"
   ]
  },
  {
   "cell_type": "code",
   "execution_count": 116,
   "metadata": {},
   "outputs": [
    {
     "name": "stdout",
     "output_type": "stream",
     "text": [
      "['kid1', 'kid2', 'kid3']\n",
      "{'name': 'John', 'age': 20, 'married': False, 'kids': ['kid1', 'kid2', 'kid3', 'kid4']}\n"
     ]
    }
   ],
   "source": [
    "person={\n",
    "    \"name\":\"John\",\n",
    "    \"age\":20,\n",
    "    \"married\": False,\n",
    "    'kids': ['kid1','kid2','kid3']\n",
    "}\n",
    "\n",
    "print(person['kids'])\n",
    "\n",
    "\n",
    "person['kids'].append('kid4')\n",
    "\n",
    "print(person)\n"
   ]
  },
  {
   "cell_type": "code",
   "execution_count": 117,
   "metadata": {},
   "outputs": [
    {
     "name": "stdout",
     "output_type": "stream",
     "text": [
      "80\n"
     ]
    }
   ],
   "source": [
    "sample_dict = { \n",
    "   \"class\":{ \n",
    "      \"student\":{ \n",
    "         \"name\":\"Mike\",\n",
    "         \"marks\":{ \n",
    "            \"physics\":70,\n",
    "            \"history\":80\n",
    "         }\n",
    "      }\n",
    "   }\n",
    "}\n",
    "\n",
    "print(sample_dict['class']['student']['marks']['history'])"
   ]
  },
  {
   "cell_type": "code",
   "execution_count": 119,
   "metadata": {},
   "outputs": [
    {
     "name": "stdout",
     "output_type": "stream",
     "text": [
      "{'age': 25, 'city': 'New york'}\n"
     ]
    }
   ],
   "source": [
    "sample_dict = {\n",
    "  \"name\": \"Kelly\",\n",
    "  \"age\":25,\n",
    "  \"salary\": 8000,\n",
    "  \"city\": \"New york\"\n",
    "\n",
    "}\n",
    "keys_to_remove = [\"name\", \"salary\"]\n",
    "\n",
    "for key in keys_to_remove:\n",
    "    del sample_dict[key]\n",
    "\n",
    "\n",
    "print(sample_dict)"
   ]
  },
  {
   "cell_type": "code",
   "execution_count": 123,
   "metadata": {},
   "outputs": [
    {
     "name": "stdout",
     "output_type": "stream",
     "text": [
      "{'name': 'Kelly', 'age': 25, 'salary': 8000, 'city': 'New york'}\n",
      "{}\n"
     ]
    }
   ],
   "source": [
    "sample_dict = {\n",
    "  \"name\": \"Kelly\",\n",
    "  \"age\":25,\n",
    "  \"salary\": 8000,\n",
    "  \"city\": \"New york\"\n",
    "}\n",
    "\n",
    "print(sample_dict)\n",
    "\n",
    "sample_dict.clear()\n",
    "\n",
    "print(sample_dict)\n",
    "\n",
    "\n"
   ]
  },
  {
   "cell_type": "code",
   "execution_count": 125,
   "metadata": {},
   "outputs": [
    {
     "name": "stdout",
     "output_type": "stream",
     "text": [
      "<zip object at 0x108195e00>\n",
      "(1, 'a')\n",
      "(2, 'b')\n",
      "(3, 'c')\n"
     ]
    }
   ],
   "source": [
    "list1 = [1,2,3]\n",
    "list2 = ['a','b','c']\n",
    "\n",
    "zipped_items=zip(list1, list2) #zipping output\n",
    "\n",
    "print(zipped_items)\n",
    "\n",
    "\n",
    "for item in zipped_items:\n",
    "    print(item)\n"
   ]
  },
  {
   "cell_type": "code",
   "execution_count": 128,
   "metadata": {},
   "outputs": [
    {
     "name": "stdout",
     "output_type": "stream",
     "text": [
      "1\n",
      "2\n",
      "3\n",
      "Loop terminated\n",
      "Done\n"
     ]
    }
   ],
   "source": [
    "list1 = [1,2,3]\n",
    "\n",
    "for num in list1:\n",
    "    print(num)\n",
    "else:\n",
    "    print(\"Loop terminated\")\n",
    "\n",
    "print(\"Done\")"
   ]
  },
  {
   "cell_type": "code",
   "execution_count": 132,
   "metadata": {},
   "outputs": [
    {
     "name": "stdout",
     "output_type": "stream",
     "text": [
      "10\n",
      "9\n",
      "8\n",
      "7\n",
      "6\n",
      "5\n",
      "4\n",
      "3\n",
      "2\n",
      "1\n",
      "reached 0 \n",
      " 0\n"
     ]
    }
   ],
   "source": [
    "i=10\n",
    "\n",
    "while i>0:\n",
    "    print(i)\n",
    "    i=i-1\n",
    "else:\n",
    "    print(f\"reached 0 \\n {i}\")"
   ]
  },
  {
   "cell_type": "code",
   "execution_count": 134,
   "metadata": {},
   "outputs": [
    {
     "name": "stdout",
     "output_type": "stream",
     "text": [
      "ram\n",
      "shyam\n",
      "gita\n",
      "sita\n"
     ]
    }
   ],
   "source": [
    "names=['ram', 'shyam', 'hari', 'gita', 'sita']\n",
    "\n",
    "for name in names:\n",
    "    if name=='hari':\n",
    "        pass\n",
    "    print(name)"
   ]
  },
  {
   "cell_type": "code",
   "execution_count": 138,
   "metadata": {},
   "outputs": [
    {
     "ename": "IndentationError",
     "evalue": "expected an indented block after function definition on line 1 (950042206.py, line 4)",
     "output_type": "error",
     "traceback": [
      "\u001b[0;36m  Input \u001b[0;32mIn [138]\u001b[0;36m\u001b[0m\n\u001b[0;31m    a=1+2\u001b[0m\n\u001b[0m    ^\u001b[0m\n\u001b[0;31mIndentationError\u001b[0m\u001b[0;31m:\u001b[0m expected an indented block after function definition on line 1\n"
     ]
    }
   ],
   "source": [
    "def do_something():\n",
    "    pass\n",
    "\n",
    "a=1+2\n",
    "print(a)"
   ]
  },
  {
   "cell_type": "code",
   "execution_count": 84,
   "metadata": {},
   "outputs": [
    {
     "name": "stdout",
     "output_type": "stream",
     "text": [
      "name\n",
      "age\n",
      "married\n",
      "John\n",
      "20\n",
      "False\n",
      "name John\n",
      "age 20\n",
      "married False\n"
     ]
    }
   ],
   "source": [
    "person={\n",
    "    \"name\":\"John\",\n",
    "    \"age\":20,\n",
    "    \"married\": False\n",
    "}\n",
    "\n",
    "#accessing all keys using a loop\n",
    "for key in person:\n",
    "    print(key)\n",
    "\n",
    "\n",
    "#accessing all values using a loop\n",
    "\n",
    "for key in person:\n",
    "    print(person[key])\n",
    "\n",
    "#accessing both key and value with a loop\n",
    "\n",
    "for key,value in person.items():\n",
    "    print(key,value)"
   ]
  },
  {
   "cell_type": "code",
   "execution_count": 91,
   "metadata": {},
   "outputs": [
    {
     "name": "stdout",
     "output_type": "stream",
     "text": [
      "10\n",
      "11\n",
      "12\n",
      "13\n",
      "14\n",
      "15\n",
      "16\n",
      "17\n",
      "18\n",
      "19\n"
     ]
    }
   ],
   "source": [
    "for i in range(10,20):\n",
    "   print(i)"
   ]
  },
  {
   "cell_type": "code",
   "execution_count": 88,
   "metadata": {},
   "outputs": [
    {
     "name": "stdout",
     "output_type": "stream",
     "text": [
      "50\n",
      "10\n",
      "150\n"
     ]
    }
   ],
   "source": [
    "marks=[10,20,30,40,50]\n",
    "\n",
    "print(max(marks))\n",
    "print(min(marks))\n",
    "print(sum(marks))"
   ]
  },
  {
   "cell_type": "code",
   "execution_count": null,
   "metadata": {},
   "outputs": [],
   "source": [
    "while True:\n",
    "    print(\"Hello\")"
   ]
  },
  {
   "cell_type": "code",
   "execution_count": 96,
   "metadata": {},
   "outputs": [
    {
     "name": "stdout",
     "output_type": "stream",
     "text": [
      "ram\n",
      "Found: ram\n"
     ]
    }
   ],
   "source": [
    "#searching a value in a list\n",
    "\n",
    "names=['ram', 'shyam', 'hari', 'gita', 'sita']\n",
    "\n",
    "search_value=input(\"Enter a name to search: \")\n",
    "\n",
    "found=False #flag\n",
    "\n",
    "\n",
    "for name in names:\n",
    "    if found==False:\n",
    "        print(name)\n",
    "        if name==search_value:\n",
    "            print(f\"Found: {search_value}\")\n",
    "            found=True\n",
    "\n",
    "\n",
    "\n",
    "# for name in names:\n",
    "#     print(name)\n",
    "#     if name==search_value:\n",
    "#         print(f\"Found: {search_value}\")\n",
    "\n"
   ]
  },
  {
   "cell_type": "code",
   "execution_count": 98,
   "metadata": {},
   "outputs": [
    {
     "name": "stdout",
     "output_type": "stream",
     "text": [
      "ram\n",
      "Found: ram\n"
     ]
    }
   ],
   "source": [
    "#searching a value in a list\n",
    "\n",
    "names=['ram', 'shyam', 'hari', 'gita', 'sita']\n",
    "\n",
    "search_value=input(\"Enter a name to search: \")\n",
    "\n",
    "for name in names:\n",
    "    print(name)\n",
    "    if name==search_value:\n",
    "        print(f\"Found: {search_value}\")\n",
    "        break\n"
   ]
  },
  {
   "cell_type": "code",
   "execution_count": 101,
   "metadata": {},
   "outputs": [
    {
     "name": "stdout",
     "output_type": "stream",
     "text": [
      "150\n",
      "30.0\n"
     ]
    }
   ],
   "source": [
    "#program to calculate the average of marks\n",
    "marks=[10,20,30,40,50]\n",
    "\n",
    "sum=0\n",
    "for mark in marks:\n",
    "    sum=sum+mark\n",
    "\n",
    "print(sum)\n",
    "\n",
    "print(sum/len(marks))"
   ]
  },
  {
   "cell_type": "code",
   "execution_count": 102,
   "metadata": {},
   "outputs": [
    {
     "name": "stdout",
     "output_type": "stream",
     "text": [
      "120\n",
      "24.0\n"
     ]
    }
   ],
   "source": [
    "#program to calculate the average of marks\n",
    "marks=[10,20,30,40,50]\n",
    "\n",
    "sum=0\n",
    "for mark in marks:\n",
    "    if mark==30:\n",
    "        continue\n",
    "    sum=sum+mark\n",
    "\n",
    "print(sum)\n",
    "\n",
    "print(sum/len(marks))"
   ]
  },
  {
   "cell_type": "code",
   "execution_count": 104,
   "metadata": {},
   "outputs": [
    {
     "name": "stdout",
     "output_type": "stream",
     "text": [
      "3\n",
      "4\n",
      "5\n"
     ]
    }
   ],
   "source": [
    "for i in range(10):\n",
    "    if 3 <= i <= 5:\n",
    "        print(i)"
   ]
  },
  {
   "cell_type": "code",
   "execution_count": 106,
   "metadata": {},
   "outputs": [
    {
     "name": "stdout",
     "output_type": "stream",
     "text": [
      "0: 10\n",
      "1: 20\n",
      "2: 30\n",
      "3: 40\n",
      "4: 50\n"
     ]
    }
   ],
   "source": [
    "marks=[10,20,30,40,50]\n",
    "\n",
    "i=0\n",
    "for mark in marks:\n",
    "    print(f'{i}: {mark}')\n",
    "    i=i+1"
   ]
  },
  {
   "cell_type": "code",
   "execution_count": 107,
   "metadata": {},
   "outputs": [
    {
     "name": "stdout",
     "output_type": "stream",
     "text": [
      "0: 10\n",
      "1: 20\n",
      "2: 30\n",
      "3: 40\n",
      "4: 50\n"
     ]
    }
   ],
   "source": [
    "marks=[10,20,30,40,50]\n",
    "\n",
    "\n",
    "for i,mark in enumerate(marks):\n",
    "    print(f'{i}: {mark}')\n"
   ]
  },
  {
   "cell_type": "code",
   "execution_count": 142,
   "metadata": {},
   "outputs": [
    {
     "name": "stdout",
     "output_type": "stream",
     "text": [
      "['RAM', 'SHYAM', 'HARI', 'GITA', 'SITA']\n"
     ]
    }
   ],
   "source": [
    "names=['ram', 'shyam', 'hari', 'gita', 'sita']\n",
    "\n",
    "i=0\n",
    "for name in names:\n",
    "    names[i]=name.upper()\n",
    "    i=i+1\n",
    "\n",
    "print(names)"
   ]
  },
  {
   "cell_type": "code",
   "execution_count": 143,
   "metadata": {},
   "outputs": [
    {
     "name": "stdout",
     "output_type": "stream",
     "text": [
      "['RAM', 'SHYAM', 'HARI', 'GITA', 'SITA']\n"
     ]
    }
   ],
   "source": [
    "names=['ram', 'shyam', 'hari', 'gita', 'sita']\n",
    "\n",
    "\n",
    "capital_names=[name.upper() for name in names]\n",
    "print(capital_names)"
   ]
  },
  {
   "cell_type": "code",
   "execution_count": 144,
   "metadata": {},
   "outputs": [
    {
     "name": "stdout",
     "output_type": "stream",
     "text": [
      "pass\n",
      "Pass\n"
     ]
    }
   ],
   "source": [
    "mark=60\n",
    "\n",
    "if mark>50:\n",
    "    print(\"pass\")\n",
    "else:\n",
    "    print(\"fail\")\n",
    "\n",
    "\n",
    "print(\"Pass\") if mark>50 else print(\"Fail\")"
   ]
  },
  {
   "cell_type": "code",
   "execution_count": 146,
   "metadata": {},
   "outputs": [
    {
     "name": "stdout",
     "output_type": "stream",
     "text": [
      "10\n",
      "20\n",
      "30\n",
      "20\n",
      "30\n",
      "40\n",
      "30\n",
      "40\n",
      "50\n"
     ]
    }
   ],
   "source": [
    "names=[\"John\",\"Tom\",\"Don\"]\n",
    "\n",
    "students=[ [\"John\",[10,20,30]], [ \"Tom\",[20,30,40]],    [ \"Don\",[30,40,50]]] #3d\n",
    "\n",
    "for student in students:\n",
    "    for mark in student[1]:\n",
    "        print(mark)"
   ]
  }
 ],
 "metadata": {
  "kernelspec": {
   "display_name": "Python 3",
   "language": "python",
   "name": "python3"
  },
  "language_info": {
   "codemirror_mode": {
    "name": "ipython",
    "version": 3
   },
   "file_extension": ".py",
   "mimetype": "text/x-python",
   "name": "python",
   "nbconvert_exporter": "python",
   "pygments_lexer": "ipython3",
   "version": "3.10.2"
  },
  "orig_nbformat": 4
 },
 "nbformat": 4,
 "nbformat_minor": 2
}
