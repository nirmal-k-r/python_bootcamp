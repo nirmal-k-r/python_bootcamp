{
 "cells": [
  {
   "cell_type": "code",
   "execution_count": 4,
   "metadata": {},
   "outputs": [
    {
     "name": "stdout",
     "output_type": "stream",
     "text": [
      "This is a test\n",
      "This is my second line\n"
     ]
    }
   ],
   "source": [
    "print(\"This is a test\")\n",
    "print(\"This is my second line\")"
   ]
  },
  {
   "cell_type": "code",
   "execution_count": 5,
   "metadata": {},
   "outputs": [
    {
     "name": "stdout",
     "output_type": "stream",
     "text": [
      "My name is John\n",
      "My age is 30\n"
     ]
    }
   ],
   "source": [
    "name=\"John\"\n",
    "age=30\n",
    "\n",
    "print(\"My name is \"+name)\n",
    "print(f'My age is {age}')"
   ]
  },
  {
   "cell_type": "code",
   "execution_count": 6,
   "metadata": {},
   "outputs": [
    {
     "name": "stdout",
     "output_type": "stream",
     "text": [
      "You name is test\n"
     ]
    }
   ],
   "source": [
    "name=input(\"Enter your name: \")\n",
    "print(f'You name is {name}')"
   ]
  },
  {
   "cell_type": "code",
   "execution_count": 7,
   "metadata": {},
   "outputs": [],
   "source": [
    "#Comments\n",
    "# This is a comment\n",
    "print('test') # This is also a comment"
   ]
  },
  {
   "cell_type": "code",
   "execution_count": 19,
   "metadata": {},
   "outputs": [
    {
     "name": "stdout",
     "output_type": "stream",
     "text": [
      "-10\n",
      "<class 'bool'>\n",
      "<class 'int'>\n",
      "<class 'float'>\n"
     ]
    }
   ],
   "source": [
    "#Data types\n",
    "age=10 #integer\n",
    "age=-10 #integer\n",
    "total=1100.02000001 #float\n",
    "\n",
    "#strings\n",
    "letter='W'\n",
    "word='test'\n",
    "sentence=\"This is a sentence\"\n",
    "\n",
    "#boolean\n",
    "flag=True\n",
    "flag=False\n",
    "paid=True\n",
    "\n",
    "#None\n",
    "name=None\n",
    "\n",
    "\n",
    "print(age)\n",
    "\n",
    "print( type(paid) )\n",
    "print( type(age) )\n",
    "print( type(total) )"
   ]
  },
  {
   "cell_type": "code",
   "execution_count": 31,
   "metadata": {},
   "outputs": [
    {
     "name": "stdout",
     "output_type": "stream",
     "text": [
      "Doe\n",
      "DOE\n",
      "john\n",
      "My name is John\n"
     ]
    }
   ],
   "source": [
    "#string manipulation\n",
    "\n",
    "name=\"doe\"\n",
    "name2=\"JOHN\"\n",
    "\n",
    "surname=name.capitalize()\n",
    "surname2=name.upper()\n",
    "\n",
    "\n",
    "\n",
    "print(surname)\n",
    "print(surname2)\n",
    "\n",
    "print(name2.lower())\n",
    "\n",
    "\n",
    "#replace string\n",
    "sentence=\"My name is Paul\"\n",
    "sentence=sentence.replace(\"Paul\",\"John\")\n",
    "print(sentence)"
   ]
  },
  {
   "cell_type": "code",
   "execution_count": 36,
   "metadata": {},
   "outputs": [
    {
     "name": "stdout",
     "output_type": "stream",
     "text": [
      "30\n",
      "-10\n",
      "200\n",
      "0.5\n",
      "10\n",
      "1\n",
      "50.0\n",
      "2.0\n",
      "2.0\n"
     ]
    }
   ],
   "source": [
    "#operations\n",
    "num1=10\n",
    "num2=20\n",
    "\n",
    "print(num1+num2)\n",
    "print(num1-num2)\n",
    "print(num1*num2)\n",
    "print(num1/num2)\n",
    "print(num1 % num2) #modulus\n",
    "\n",
    "\n",
    "print(5%2)\n",
    "\n",
    "\n",
    "num3=10.0\n",
    "num4=5\n",
    "\n",
    "print(num3*num4)\n",
    "print(num3/num4)\n",
    "\n",
    "print(4/s2)"
   ]
  },
  {
   "cell_type": "code",
   "execution_count": 48,
   "metadata": {},
   "outputs": [
    {
     "name": "stdout",
     "output_type": "stream",
     "text": [
      "My age is 30\n",
      "2\n",
      "True\n"
     ]
    }
   ],
   "source": [
    "#casting\n",
    "age=30\n",
    "\n",
    "print(\"My age is \"+ str(age) )\n",
    "\n",
    "result=10/5\n",
    "print(int(result))\n",
    "\n",
    "paid=0\n",
    "\n",
    "print(bool(paid))"
   ]
  },
  {
   "cell_type": "code",
   "execution_count": 49,
   "metadata": {},
   "outputs": [
    {
     "name": "stdout",
     "output_type": "stream",
     "text": [
      "JohnJohnJohnJohn\n"
     ]
    }
   ],
   "source": [
    "#manipulations\n",
    "name=\"John\"\n",
    "\n",
    "\n",
    "print(name*4) #repeating strings\n",
    "\n"
   ]
  },
  {
   "cell_type": "code",
   "execution_count": 51,
   "metadata": {},
   "outputs": [
    {
     "name": "stdout",
     "output_type": "stream",
     "text": [
      "This is a sentence \n",
      " This is line 2 \n",
      "\t This is line 3\n"
     ]
    }
   ],
   "source": [
    "sentence=\"This is a sentence \\n This is line 2 \\n\\t This is line 3\"\n",
    "\n",
    "print(sentence)"
   ]
  },
  {
   "cell_type": "code",
   "execution_count": 56,
   "metadata": {},
   "outputs": [
    {
     "name": "stdout",
     "output_type": "stream",
     "text": [
      "1\n",
      "4\n"
     ]
    }
   ],
   "source": [
    "i=0\n",
    "\n",
    "i=i+1\n",
    "\n",
    "print(i)\n",
    "\n",
    "i += 3  \n",
    "\n",
    "print(i)\n",
    "\n"
   ]
  },
  {
   "cell_type": "code",
   "execution_count": 59,
   "metadata": {},
   "outputs": [
    {
     "name": "stdout",
     "output_type": "stream",
     "text": [
      "My name is John and my age is 30\n",
      "My name is John and my age is 30\n",
      "My name is John and my age is 30\n"
     ]
    }
   ],
   "source": [
    "#string formatting\n",
    "\n",
    "name=\"John\"\n",
    "age=30\n",
    "\n",
    "print(\"My name is \"+ name + \" and my age is \"+ str(age) )\n",
    "\n",
    "print(f'My name is {name} and my age is {age}') #string interpolation\n",
    "\n",
    "print(\"My name is {} and my age is {}\".format(name,age)) #string formatting\n",
    "\n"
   ]
  },
  {
   "cell_type": "code",
   "execution_count": 64,
   "metadata": {},
   "outputs": [
    {
     "name": "stdout",
     "output_type": "stream",
     "text": [
      "10\n",
      "<class 'int'>\n"
     ]
    }
   ],
   "source": [
    "#input\n",
    "# name= input(\"Please enter your name: \")\n",
    "\n",
    "# print(name)\n",
    "\n",
    "\n",
    "age= int(input(\"Please enter your age: \")) #wrapping input with conversion function\n",
    "\n",
    "# age=int(age) #casting\n",
    "\n",
    "print(age)\n",
    "print(type(age))\n"
   ]
  },
  {
   "cell_type": "code",
   "execution_count": 69,
   "metadata": {},
   "outputs": [
    {
     "name": "stdout",
     "output_type": "stream",
     "text": [
      "44444\n"
     ]
    }
   ],
   "source": [
    "number = input('Multiply me by three: ')\n",
    "print(number * 5)"
   ]
  },
  {
   "cell_type": "code",
   "execution_count": 72,
   "metadata": {},
   "outputs": [
    {
     "name": "stdout",
     "output_type": "stream",
     "text": [
      "My age is 10\n"
     ]
    }
   ],
   "source": [
    "age=10\n",
    "\n",
    "# print(\"My age is \" + int(age))\n",
    "\n",
    "print(\"My age is {}\".format(age))\n",
    "\n",
    "print(f\"My age is {age}\")\n"
   ]
  },
  {
   "cell_type": "code",
   "execution_count": 74,
   "metadata": {},
   "outputs": [
    {
     "name": "stdout",
     "output_type": "stream",
     "text": [
      "You have not paid\n",
      "This is outside the if statement\n"
     ]
    }
   ],
   "source": [
    "#conditions\n",
    "\n",
    "paid=False\n",
    "\n",
    "if paid==True:\n",
    "    print(\"You have paid\")\n",
    "    print(\"Thanks\")\n",
    "else:\n",
    "    print(\"You have not paid\")\n",
    "\n",
    "print(\"This is outside the if statement\")"
   ]
  },
  {
   "cell_type": "code",
   "execution_count": 77,
   "metadata": {},
   "outputs": [
    {
     "name": "stdout",
     "output_type": "stream",
     "text": [
      "This is cheap\n"
     ]
    }
   ],
   "source": [
    "price=-1\n",
    "\n",
    "\n",
    "if price<=100:\n",
    "    print(\"This is cheap\")\n",
    "elif price>100 and price<=500:\n",
    "    print(\"This is reasonable\")\n",
    "elif price>500 and price<=1000:\n",
    "    print(\"This is expensive\")\n",
    "else: \n",
    "    print(\"Error\")"
   ]
  },
  {
   "cell_type": "code",
   "execution_count": 81,
   "metadata": {},
   "outputs": [
    {
     "name": "stdout",
     "output_type": "stream",
     "text": [
      "You receive 5% promo\n"
     ]
    }
   ],
   "source": [
    "paid=True\n",
    "total=5000\n",
    "\n",
    "if paid==True or total>10000:\n",
    "    print(\"You receive 5% promo\")\n",
    "\n"
   ]
  },
  {
   "cell_type": "code",
   "execution_count": 85,
   "metadata": {},
   "outputs": [
    {
     "name": "stdout",
     "output_type": "stream",
     "text": [
      "This is John\n",
      "This is not John\n"
     ]
    }
   ],
   "source": [
    "name=\"Tom\"\n",
    "\n",
    "if name!=\"John\":\n",
    "    print(\"This is not John\")\n",
    "\n",
    "\n",
    "if not name==\"John\":\n",
    "    print(\"This is not John\")"
   ]
  },
  {
   "cell_type": "code",
   "execution_count": 90,
   "metadata": {},
   "outputs": [
    {
     "name": "stdout",
     "output_type": "stream",
     "text": [
      "Not found\n"
     ]
    }
   ],
   "source": [
    "names=[\"John\",\"Tom\",\"Mary\"]\n",
    "\n",
    "if \"Mary\" in names:\n",
    "    print(\"FOund\")\n",
    "else:\n",
    "    print(\"Not found\")"
   ]
  },
  {
   "cell_type": "code",
   "execution_count": 97,
   "metadata": {},
   "outputs": [
    {
     "name": "stdout",
     "output_type": "stream",
     "text": [
      "Found\n",
      "True\n"
     ]
    }
   ],
   "source": [
    "sentence=\"This is a sentence\"\n",
    "\n",
    "if \"hi\" in sentence:\n",
    "    print(\"Found\")\n",
    "else:\n",
    "    print(\"Not found\")\n"
   ]
  },
  {
   "cell_type": "code",
   "execution_count": 101,
   "metadata": {},
   "outputs": [
    {
     "name": "stdout",
     "output_type": "stream",
     "text": [
      "3\n",
      "0\n",
      "0\n"
     ]
    }
   ],
   "source": [
    "sentence=\"hi my name is hioghi\"\n",
    "print(sentence.count(\"hi\"))\n",
    "\n",
    "print(sentence.find(\"hi\"))\n",
    "\n",
    "print(sentence.index(\"hi\"))"
   ]
  },
  {
   "cell_type": "code",
   "execution_count": 102,
   "metadata": {},
   "outputs": [
    {
     "name": "stdout",
     "output_type": "stream",
     "text": [
      "0\n",
      "1\n",
      "2\n",
      "3\n",
      "4\n",
      "5\n",
      "6\n",
      "7\n",
      "8\n",
      "9\n"
     ]
    }
   ],
   "source": [
    "for i in range(10):\n",
    "    print(i)"
   ]
  },
  {
   "cell_type": "code",
   "execution_count": 103,
   "metadata": {},
   "outputs": [
    {
     "name": "stdout",
     "output_type": "stream",
     "text": [
      "John\n",
      "Tom\n",
      "Mary\n"
     ]
    }
   ],
   "source": [
    "names=[\"John\",\"Tom\",\"Mary\"]\n",
    "\n",
    "for name in names:\n",
    "    print(name)"
   ]
  },
  {
   "cell_type": "code",
   "execution_count": 105,
   "metadata": {},
   "outputs": [
    {
     "name": "stdout",
     "output_type": "stream",
     "text": [
      "10\n",
      "20\n",
      "30\n",
      "40\n",
      "Age:40\n"
     ]
    }
   ],
   "source": [
    "ages=[10,20,30,40]\n",
    "\n",
    "for age in ages:\n",
    "    print(age)\n",
    "\n",
    "print(f'Age:{ages[3]}')"
   ]
  },
  {
   "cell_type": "code",
   "execution_count": 106,
   "metadata": {},
   "outputs": [
    {
     "name": "stdout",
     "output_type": "stream",
     "text": [
      "0\n",
      "1\n",
      "2\n",
      "3\n",
      "4\n"
     ]
    }
   ],
   "source": [
    "i=0\n",
    "while i<5:\n",
    "    print(i)\n",
    "    i=i+1"
   ]
  },
  {
   "cell_type": "code",
   "execution_count": 108,
   "metadata": {},
   "outputs": [
    {
     "name": "stdout",
     "output_type": "stream",
     "text": [
      "Hello\n"
     ]
    }
   ],
   "source": [
    "def say_hello():\n",
    "    print(\"Hello\")\n",
    "\n",
    "\n",
    "say_hello()"
   ]
  },
  {
   "cell_type": "code",
   "execution_count": null,
   "metadata": {},
   "outputs": [],
   "source": []
  }
 ],
 "metadata": {
  "kernelspec": {
   "display_name": "Python 3",
   "language": "python",
   "name": "python3"
  },
  "language_info": {
   "codemirror_mode": {
    "name": "ipython",
    "version": 3
   },
   "file_extension": ".py",
   "mimetype": "text/x-python",
   "name": "python",
   "nbconvert_exporter": "python",
   "pygments_lexer": "ipython3",
   "version": "3.10.2"
  },
  "orig_nbformat": 4
 },
 "nbformat": 4,
 "nbformat_minor": 2
}
