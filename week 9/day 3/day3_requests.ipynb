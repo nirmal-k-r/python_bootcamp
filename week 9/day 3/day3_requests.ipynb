{
 "cells": [
  {
   "cell_type": "code",
   "execution_count": 4,
   "metadata": {},
   "outputs": [
    {
     "name": "stdout",
     "output_type": "stream",
     "text": [
      "{'Server': 'Werkzeug/2.1.2 Python/3.10.2', 'Date': 'Sat, 17 Jun 2023 07:39:25 GMT', 'Content-Type': 'text/html; charset=utf-8', 'Content-Length': '16', 'Connection': 'close'}\n"
     ]
    }
   ],
   "source": [
    "import requests\n",
    "\n",
    "url=\"http://localhost:4005/\"\n",
    "\n",
    "response=requests.get(url)\n",
    "\n",
    "print(response.headers)\n",
    "print(response.text)"
   ]
  },
  {
   "cell_type": "code",
   "execution_count": 5,
   "metadata": {},
   "outputs": [
    {
     "name": "stdout",
     "output_type": "stream",
     "text": [
      "{'Server': 'Werkzeug/2.1.2 Python/3.10.2', 'Date': 'Sat, 17 Jun 2023 07:41:28 GMT', 'Content-Type': 'application/json', 'Content-Length': '130', 'Connection': 'close'}\n",
      "{\n",
      "  \"address\": \"Test\", \n",
      "  \"age\": 20, \n",
      "  \"college\": \"NIT\", \n",
      "  \"marks\": [\n",
      "    90, \n",
      "    80, \n",
      "    70, \n",
      "    60\n",
      "  ], \n",
      "  \"name\": \"Raj\"\n",
      "}\n",
      "\n"
     ]
    }
   ],
   "source": [
    "import requests\n",
    "\n",
    "url=\"http://localhost:4005/student\"\n",
    "\n",
    "response=requests.get(url)\n",
    "\n",
    "print(response.headers)\n",
    "print(response.text)"
   ]
  },
  {
   "cell_type": "code",
   "execution_count": 8,
   "metadata": {},
   "outputs": [
    {
     "name": "stdout",
     "output_type": "stream",
     "text": [
      "Chuck Norris un-invented the parabolic hemorrhoid disruptor which is why you have never heard of it before now.\n"
     ]
    }
   ],
   "source": [
    "#exercise\n",
    "url=\"https://api.chucknorris.io/jokes/random\"\n",
    "response=requests.get(url).json()\n",
    "print(response['value'])\n"
   ]
  },
  {
   "attachments": {},
   "cell_type": "markdown",
   "metadata": {},
   "source": []
  }
 ],
 "metadata": {
  "kernelspec": {
   "display_name": "Python 3",
   "language": "python",
   "name": "python3"
  },
  "language_info": {
   "codemirror_mode": {
    "name": "ipython",
    "version": 3
   },
   "file_extension": ".py",
   "mimetype": "text/x-python",
   "name": "python",
   "nbconvert_exporter": "python",
   "pygments_lexer": "ipython3",
   "version": "3.10.2"
  },
  "orig_nbformat": 4
 },
 "nbformat": 4,
 "nbformat_minor": 2
}
