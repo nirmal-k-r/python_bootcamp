{
 "cells": [
  {
   "cell_type": "code",
   "execution_count": 5,
   "metadata": {},
   "outputs": [
    {
     "name": "stdout",
     "output_type": "stream",
     "text": [
      "apple,50.00\n",
      "chocolate,200.00\n",
      "banana,5.00\n",
      "pineapple,125.00\n",
      "Kiwi,30.00\n"
     ]
    }
   ],
   "source": [
    "#opening a file\n",
    "file=open(\"inventory.txt\",\"r\")\n",
    "\n",
    "#reading a file\n",
    "print(file.read())\n",
    "\n",
    "\n",
    "file.close() #closing a file\n"
   ]
  },
  {
   "cell_type": "code",
   "execution_count": 6,
   "metadata": {},
   "outputs": [
    {
     "name": "stdout",
     "output_type": "stream",
     "text": [
      "apple,50.00\n",
      "\n",
      "chocolate,200.00\n",
      "\n",
      "banana,5.00\n",
      "\n",
      "pineapple,125.00\n",
      "\n",
      "Kiwi,30.00\n"
     ]
    }
   ],
   "source": [
    "#read \n",
    "file=open(\"inventory.txt\",\"r\")\n",
    "\n",
    "#display file line by line\n",
    "\n",
    "for line in file:\n",
    "    print(line)\n"
   ]
  },
  {
   "cell_type": "code",
   "execution_count": 7,
   "metadata": {},
   "outputs": [
    {
     "name": "stdout",
     "output_type": "stream",
     "text": [
      "Product: apple \t Price: 50.00\n",
      "\n",
      "Product: chocolate \t Price: 200.00\n",
      "\n",
      "Product: banana \t Price: 5.00\n",
      "\n",
      "Product: pineapple \t Price: 125.00\n",
      "\n",
      "Product: Kiwi \t Price: 30.00\n"
     ]
    }
   ],
   "source": [
    "#read \n",
    "file=open(\"inventory.txt\",\"r\")\n",
    "\n",
    "#display file line by line\n",
    "\n",
    "for line in file:\n",
    "    # print(line)\n",
    "    data=line.split(\",\")\n",
    "    product=data[0]\n",
    "    price=data[1]\n",
    "    print(f\"Product: {product} \\t Price: {price}\")\n",
    "\n",
    "file.close()"
   ]
  },
  {
   "cell_type": "code",
   "execution_count": 8,
   "metadata": {},
   "outputs": [],
   "source": [
    "#append to a file\n",
    "\n",
    "file=open(\"inventory.txt\",\"a\")\n",
    "\n",
    "file.write(\"\\nKiwi,30.00\")\n",
    "\n",
    "file.close()\n",
    "\n"
   ]
  },
  {
   "cell_type": "code",
   "execution_count": 9,
   "metadata": {},
   "outputs": [],
   "source": [
    "#delete an item (pear) from the file\n",
    "\n",
    "file=open(\"inventory.txt\",\"r\")\n",
    "\n",
    "#add every line of the file to a list\n",
    "lines=[]\n",
    "for line in file:\n",
    "    lines.append(line)\n",
    "file.close() #close the file\n",
    "\n",
    "#open the file in write mode\n",
    "file=open(\"inventory.txt\",\"w\")\n",
    "for line in lines:\n",
    "    if \"Pear\" not in line:\n",
    "        file.write(line)\n",
    "\n",
    "file.close()\n"
   ]
  },
  {
   "cell_type": "code",
   "execution_count": 10,
   "metadata": {},
   "outputs": [
    {
     "name": "stdout",
     "output_type": "stream",
     "text": [
      "[Errno 2] No such file or directory: 'inventoy.txt'\n",
      "program continues\n"
     ]
    }
   ],
   "source": [
    "#exception handling\n",
    "\n",
    "try:\n",
    "    file=open(\"inventoy.txt\",\"r\")\n",
    "except Exception as e:\n",
    "    print(str(e))\n",
    "\n",
    "print(\"program continues\")"
   ]
  },
  {
   "cell_type": "code",
   "execution_count": 11,
   "metadata": {},
   "outputs": [
    {
     "name": "stdout",
     "output_type": "stream",
     "text": [
      "apple,50.00\n",
      "chocolate,200.00\n",
      "banana,5.00\n",
      "pineapple,125.00\n",
      "Kiwi,30.00\n",
      "Kiwi,30.00\n"
     ]
    }
   ],
   "source": [
    "with open(\"inventory.txt\",encoding = 'utf-8') as f:\n",
    "    print(f.read())\n"
   ]
  },
  {
   "cell_type": "code",
   "execution_count": 12,
   "metadata": {},
   "outputs": [
    {
     "name": "stdout",
     "output_type": "stream",
     "text": [
      "chocolate,200.00\n",
      "banana,5.00\n",
      "pineapple,125.00\n",
      "Kiwi,30.00\n",
      "Kiwi,30.00\n"
     ]
    }
   ],
   "source": [
    "#seek() method to place cursor to initial positiohn\n",
    "with open(\"inventory.txt\",encoding = 'utf-8') as file:\n",
    "    file.seek(12)\n",
    "    print(file.read())\n"
   ]
  },
  {
   "cell_type": "code",
   "execution_count": 13,
   "metadata": {},
   "outputs": [
    {
     "name": "stdout",
     "output_type": "stream",
     "text": [
      "Darth\n",
      "Luke\n",
      "Darth\n",
      "Lea\n",
      "Darth\n",
      "Lea\n",
      "Lea\n",
      "Luke\n",
      "Darth\n",
      "Lea\n",
      "Darth\n",
      "Darth\n",
      "Lea\n",
      "Lea\n",
      "Darth\n",
      "Lea\n",
      "Darth\n",
      "Lea\n",
      "Luke\n",
      "Darth\n",
      "Lea\n",
      "Lea\n",
      "Darth\n",
      "Lea\n",
      "Darth\n",
      "Darth\n",
      "Lea\n",
      "Lea\n",
      "Luke\n",
      "Luke\n",
      "Lea\n",
      "Darth\n",
      "Darth\n",
      "Luke\n",
      "Lea\n",
      "Darth\n",
      "Darth\n",
      "Lea\n",
      "Lea\n",
      "Lea\n",
      "Lea\n",
      "Lea\n",
      "Luke\n",
      "Darth\n",
      "Luke\n",
      "Lea\n",
      "Lea\n",
      "Lea\n",
      "Lea\n",
      "Luke\n",
      "Lea\n",
      "Darth\n",
      "Lea\n",
      "Lea\n",
      "Darth\n",
      "Lea\n",
      "Lea\n",
      "Darth\n",
      "Darth\n",
      "Lea\n",
      "Darth\n",
      "Lea\n",
      "Darth\n",
      "Luke\n",
      "Lea\n",
      "Luke\n",
      "Darth\n",
      "Darth\n",
      "Luke\n",
      "Darth\n",
      "Lea\n",
      "Darth\n",
      "Lea\n",
      "Luke\n",
      "Lea\n",
      "Lea\n",
      "Lea\n",
      "Lea\n",
      "Lea\n",
      "Darth\n",
      "Lea\n",
      "Lea\n",
      "Lea\n",
      "Lea\n",
      "Lea\n",
      "Lea\n",
      "Lea\n",
      "Luke\n",
      "Lea\n",
      "Lea\n",
      "Lea\n",
      "Lea\n",
      "Lea\n",
      "Lea\n",
      "Darth\n",
      "Luke\n",
      "Darth\n",
      "Lea\n",
      "Lea\n",
      "Darth\n",
      "Nirmal\n"
     ]
    }
   ],
   "source": [
    "#Exercise\n",
    "with open(\"nameslist.txt\") as file:\n",
    "    for line in file:\n",
    "        print(line.strip())\n",
    "\n",
    "\n",
    "\n",
    "        "
   ]
  },
  {
   "cell_type": "code",
   "execution_count": 14,
   "metadata": {},
   "outputs": [
    {
     "name": "stdout",
     "output_type": "stream",
     "text": [
      "Lea\n"
     ]
    }
   ],
   "source": [
    "#Read only the 5th line of the file\n",
    "with open(\"nameslist.txt\") as file:\n",
    "    i=0\n",
    "    for line in file:\n",
    "        if i==5:\n",
    "            print(line.strip())\n",
    "            break\n",
    "        i+=1"
   ]
  },
  {
   "cell_type": "code",
   "execution_count": 15,
   "metadata": {},
   "outputs": [
    {
     "name": "stdout",
     "output_type": "stream",
     "text": [
      "Darth\n"
     ]
    }
   ],
   "source": [
    "#Read only the 5 first characters of the file\n",
    "with open(\"nameslist.txt\") as file:\n",
    "    print(file.read(5))"
   ]
  },
  {
   "cell_type": "code",
   "execution_count": 16,
   "metadata": {},
   "outputs": [
    {
     "name": "stdout",
     "output_type": "stream",
     "text": [
      "['Darth', 'Luke', 'Darth', 'Lea', 'Darth', 'Lea', 'Lea', 'Luke', 'Darth', 'Lea', 'Darth', 'Darth', 'Lea', 'Lea', 'Darth', 'Lea', 'Darth', 'Lea', 'Luke', 'Darth', 'Lea', 'Lea', 'Darth', 'Lea', 'Darth', 'Darth', 'Lea', 'Lea', 'Luke', 'Luke', 'Lea', 'Darth', 'Darth', 'Luke', 'Lea', 'Darth', 'Darth', 'Lea', 'Lea', 'Lea', 'Lea', 'Lea', 'Luke', 'Darth', 'Luke', 'Lea', 'Lea', 'Lea', 'Lea', 'Luke', 'Lea', 'Darth', 'Lea', 'Lea', 'Darth', 'Lea', 'Lea', 'Darth', 'Darth', 'Lea', 'Darth', 'Lea', 'Darth', 'Luke', 'Lea', 'Luke', 'Darth', 'Darth', 'Luke', 'Darth', 'Lea', 'Darth', 'Lea', 'Luke', 'Lea', 'Lea', 'Lea', 'Lea', 'Lea', 'Darth', 'Lea', 'Lea', 'Lea', 'Lea', 'Lea', 'Lea', 'Lea', 'Luke', 'Lea', 'Lea', 'Lea', 'Lea', 'Lea', 'Lea', 'Darth', 'Luke', 'Darth', 'Lea', 'Lea', 'Darth', 'Nirmal']\n"
     ]
    }
   ],
   "source": [
    "# Read all the file and return it as a list of strings. Then split each word\n",
    "names=[]\n",
    "with open(\"nameslist.txt\") as file:\n",
    "    for line in file:\n",
    "        names.append(line.strip())\n",
    "\n",
    "print(names)\n"
   ]
  },
  {
   "cell_type": "code",
   "execution_count": 17,
   "metadata": {},
   "outputs": [
    {
     "name": "stdout",
     "output_type": "stream",
     "text": [
      "Lea: 54 Darth: 31\n"
     ]
    }
   ],
   "source": [
    "# Find out how many occurences of the names \"Darth\", \"Luke\" and \"Lea\" are in the file\n",
    "names=[]\n",
    "with open(\"nameslist.txt\") as file:\n",
    "    for line in file:\n",
    "        names.append(line.strip())\n",
    "\n",
    "lea=names.count(\"Lea\")\n",
    "darth=names.count(\"Darth\")\n",
    "\n",
    "print(f'Lea: {lea} Darth: {darth}')\n",
    "\n",
    "\n"
   ]
  },
  {
   "cell_type": "code",
   "execution_count": 18,
   "metadata": {},
   "outputs": [],
   "source": [
    "# Append your first name at the end of the file\n",
    "with open(\"nameslist.txt\",'a') as file:\n",
    "    file.write(\"\\nNirmal\")"
   ]
  },
  {
   "cell_type": "code",
   "execution_count": 20,
   "metadata": {},
   "outputs": [],
   "source": [
    "# Append \"SkyWalker\" next to each first name \"Luke\"\n",
    "names=[]\n",
    "with open(\"nameslist.txt\",'r') as file:\n",
    "    for line in file:\n",
    "        names.append(line.strip())\n",
    "\n",
    "\n",
    "with open(\"nameslist.txt\",'w') as file:\n",
    "    for name in names:\n",
    "        if name==\"Luke\":\n",
    "            file.write(\"Luke SkyWalker\\n\")\n",
    "        else:\n",
    "            file.write(f\"{name}\\n\")"
   ]
  }
 ],
 "metadata": {
  "kernelspec": {
   "display_name": "Python 3",
   "language": "python",
   "name": "python3"
  },
  "language_info": {
   "codemirror_mode": {
    "name": "ipython",
    "version": 3
   },
   "file_extension": ".py",
   "mimetype": "text/x-python",
   "name": "python",
   "nbconvert_exporter": "python",
   "pygments_lexer": "ipython3",
   "version": "3.10.2"
  },
  "orig_nbformat": 4
 },
 "nbformat": 4,
 "nbformat_minor": 2
}
