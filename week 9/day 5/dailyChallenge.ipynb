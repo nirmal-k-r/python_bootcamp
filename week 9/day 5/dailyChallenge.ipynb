{
 "cells": [
  {
   "cell_type": "code",
   "execution_count": 8,
   "metadata": {},
   "outputs": [
    {
     "name": "stdout",
     "output_type": "stream",
     "text": [
      "The load time for https://google.com is 1.3510959148406982\n",
      "The load time for https://bing.com is 2.3515539169311523\n",
      "The load time for https://duckduckgo.com is 0.4175071716308594\n",
      "The load time for https://yahoo.com is 2.8751540184020996\n"
     ]
    }
   ],
   "source": [
    "import requests, datetime, time\n",
    "\n",
    "def calculate_load_time(url):\n",
    "    start_time=time.time()\n",
    "    response=requests.get(url)\n",
    "    end_time=time.time()\n",
    "    difference=end_time-start_time\n",
    "    return difference\n",
    "\n",
    "\n",
    "sites=['https://google.com','https://bing.com','https://duckduckgo.com','https://yahoo.com']\n",
    "load_times=[]\n",
    "for site in sites:\n",
    "    load_time=calculate_load_time(site)\n",
    "    load_times.append(load_time)\n",
    "    print('The load time for {} is {}'.format(site,load_time))\n"
   ]
  },
  {
   "cell_type": "code",
   "execution_count": 12,
   "metadata": {},
   "outputs": [
    {
     "data": {
      "text/plain": [
       "<BarContainer object of 4 artists>"
      ]
     },
     "execution_count": 12,
     "metadata": {},
     "output_type": "execute_result"
    },
    {
     "data": {
      "image/png": "[encoded data removed]",
      "text/plain": [
       "<Figure size 432x288 with 1 Axes>"
      ]
     },
     "metadata": {
      "needs_background": "light"
     },
     "output_type": "display_data"
    }
   ],
   "source": [
    "import matplotlib.pyplot as plt\n",
    "\n",
    "plt.bar(sites,load_times)\n"
   ]
  }
 ],
 "metadata": {
  "kernelspec": {
   "display_name": "Python 3",
   "language": "python",
   "name": "python3"
  },
  "language_info": {
   "codemirror_mode": {
    "name": "ipython",
    "version": 3
   },
   "file_extension": ".py",
   "mimetype": "text/x-python",
   "name": "python",
   "nbconvert_exporter": "python",
   "pygments_lexer": "ipython3",
   "version": "3.10.2"
  },
  "orig_nbformat": 4
 },
 "nbformat": 4,
 "nbformat_minor": 2
}
